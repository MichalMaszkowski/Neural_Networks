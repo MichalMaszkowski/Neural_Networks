{
  "cells": [
    {
      "cell_type": "markdown",
      "metadata": {
        "id": "UovAwWSemLQg"
      },
      "source": [
        "# Low-shot visual anomaly detection\n",
        "\n",
        "In this notebook you'll investigate visual anomaly detection in a typical industrial setting - we don't have much data and we can train using only normal (non-anomalous) examples.\n",
        "Read the [PADIM paper](https://arxiv.org/pdf/2011.08785.pdf) carefully.\n",
        "The code here is based on the original implementation from its authors.\n",
        "\n",
        "If you have any questions - please write them on slack in the channel.\n",
        "\n",
        "### Bibliography\n",
        "\n",
        "1. Defard, T., Setkov, A., Loesch, A., & Audigier, R. (2021). [Padim: a patch distribution modeling framework for anomaly detection and localization](https://arxiv.org/pdf/2011.08785.pdf). In International Conference on Pattern Recognition (pp. 475-489). Cham: Springer International Publishing."
      ]
    },
    {
      "cell_type": "markdown",
      "metadata": {
        "id": "wI9U9cpLmLQi"
      },
      "source": [
        "## Data\n",
        "\n",
        "In case of any problems - please visit [MVTec AD](https://www.mvtec.com/company/research/datasets/mvtec-ad/downloads) to get the access to the data."
      ]
    },
    {
      "cell_type": "code",
      "source": [
        "#If you received Too many users have viewed… error during downloading the MVTec AD dataset, you may want to use the following instead of !gdown:\n",
        "!wget -q https://www.mydrive.ch/shares/38536/3830184030e49fe74747669442f0f282/download/420937370-1629951468/bottle.tar.xz\n",
        "!wget -q https://www.mydrive.ch/shares/38536/3830184030e49fe74747669442f0f282/download/420937637-1629952063/metal_nut.tar.xz\n",
        "!wget -q https://www.mydrive.ch/shares/38536/3830184030e49fe74747669442f0f282/download/420938166-1629953277/transistor.tar.xz"
      ],
      "metadata": {
        "id": "mwbsNKudQAUE"
      },
      "execution_count": 1,
      "outputs": []
    },
    {
      "cell_type": "code",
      "execution_count": 2,
      "metadata": {
        "id": "EshJs4urmLQk"
      },
      "outputs": [],
      "source": [
        "# %pip install --quiet gdown  # for those who don't run it on Google Colab\n",
        "# !gdown -q '1r7WJeDb-E5zzgQSOx7F7bNWg8kYX3yKE'\n",
        "# !gdown -q '1Kb420ygkN1iBni5Iy_-psLGNoY0gQFk9'\n",
        "# !gdown -q '12wDP9I3aVIr1qLekWY3GLhQO7c6SRhGn'"
      ]
    },
    {
      "cell_type": "code",
      "execution_count": 16,
      "metadata": {
        "id": "Jn0KrCFlmLQl"
      },
      "outputs": [],
      "source": [
        "from pathlib import Path\n",
        "import tarfile\n",
        "\n",
        "DATA_PATH = Path('./mvtec_anomaly_detection')\n",
        "DATA_PATH.mkdir(exist_ok=True)\n",
        "\n",
        "for class_name in ['bottle', 'metal_nut', 'transistor']:\n",
        "    if not (DATA_PATH / class_name).exists():\n",
        "        with tarfile.open(class_name + '.tar.xz') as tar:\n",
        "            tar.extractall(path=DATA_PATH)"
      ]
    },
    {
      "cell_type": "markdown",
      "metadata": {
        "id": "eIpKIZcpmLQm"
      },
      "source": [
        "## PADIM implementation"
      ]
    },
    {
      "cell_type": "markdown",
      "source": [
        "### Imports and such"
      ],
      "metadata": {
        "id": "FjTsosFi1Ikn"
      }
    },
    {
      "cell_type": "code",
      "source": [
        "!pip install memory-profiler --quiet\n",
        "%load_ext memory_profiler\n",
        "from memory_profiler import memory_usage\n",
        "import gc"
      ],
      "metadata": {
        "id": "Cl6wEzYSSqBf"
      },
      "execution_count": 4,
      "outputs": []
    },
    {
      "cell_type": "code",
      "execution_count": 3,
      "metadata": {
        "id": "rafqIH1nmLQo"
      },
      "outputs": [],
      "source": [
        "import os\n",
        "import random\n",
        "import time\n",
        "from pathlib import Path\n",
        "from random import sample\n",
        "from typing import cast, Any, Dict, List, Optional, Tuple\n",
        "\n",
        "import pandas as pd\n",
        "import matplotlib.pyplot as plt\n",
        "import numpy as np\n",
        "import torch\n",
        "import torch.backends, torch.backends.mps\n",
        "import torch.nn.functional as F\n",
        "from numpy.typing import NDArray\n",
        "from matplotlib import colors\n",
        "from PIL import Image\n",
        "from sklearn.metrics import roc_auc_score, roc_curve, precision_recall_curve\n",
        "from scipy.spatial.distance import mahalanobis\n",
        "from scipy.ndimage import gaussian_filter\n",
        "from skimage import morphology\n",
        "from skimage.segmentation import mark_boundaries\n",
        "from torch.utils.data import DataLoader, Dataset\n",
        "from torchvision.models import wide_resnet50_2, resnet18, Wide_ResNet50_2_Weights, ResNet18_Weights\n",
        "from torch import nn\n",
        "from torchvision import transforms as T\n",
        "from tqdm import tqdm\n",
        "from torch.utils.data.sampler import SubsetRandomSampler\n",
        "\n",
        "FloatNDArray = NDArray[np.float32]"
      ]
    },
    {
      "cell_type": "code",
      "execution_count": 8,
      "metadata": {
        "id": "jcBv6FSJmLQq"
      },
      "outputs": [],
      "source": [
        "# Leave it as is if you're unsure, this notebook will guess this for you below.\n",
        "DEVICE: Optional[torch.device] = None\n",
        "SEED: int = 42  # do not modify\n",
        "\n",
        "plt.style.use(\"dark_background\")"
      ]
    },
    {
      "cell_type": "code",
      "execution_count": 9,
      "metadata": {
        "id": "l3pUdmm4mLQr"
      },
      "outputs": [],
      "source": [
        "def seed_all(seed: int = 0) -> None:\n",
        "    random.seed(seed)\n",
        "    np.random.seed(seed)\n",
        "    torch.manual_seed(seed)\n",
        "    if torch.cuda.is_available():\n",
        "        torch.cuda.manual_seed_all(seed)\n",
        "\n",
        "\n",
        "def get_best_device_for_pytorch() -> torch.device:\n",
        "    if torch.cuda.is_available():\n",
        "        device_str = \"cuda\"     # GPU\n",
        "    elif hasattr(torch.backends, \"mps\") and torch.backends.mps.is_available():\n",
        "        device_str = \"mps\"      # Apple silicon\n",
        "    else:\n",
        "        device_str = \"cpu\"      # CPU\n",
        "    return torch.device(device_str)"
      ]
    },
    {
      "cell_type": "code",
      "execution_count": 10,
      "metadata": {
        "id": "pLpEkZFxmLQt",
        "outputId": "0a8413b3-0c29-4172-d10b-2f7f71a81ebd",
        "colab": {
          "base_uri": "https://localhost:8080/"
        }
      },
      "outputs": [
        {
          "output_type": "stream",
          "name": "stdout",
          "text": [
            "Using PyTorch with cpu backend.\n",
            "Seeded everything with 42.\n"
          ]
        }
      ],
      "source": [
        "if not DEVICE:\n",
        "    DEVICE = get_best_device_for_pytorch()\n",
        "print(f\"Using PyTorch with {DEVICE} backend.\")\n",
        "\n",
        "seed_all(SEED)\n",
        "print(f\"Seeded everything with {SEED}.\")"
      ]
    },
    {
      "cell_type": "markdown",
      "metadata": {
        "id": "YW1hUW5umLQw"
      },
      "source": [
        "### MVTecDataset"
      ]
    },
    {
      "cell_type": "code",
      "execution_count": 15,
      "metadata": {
        "id": "QEtIdZM6mLQx"
      },
      "outputs": [],
      "source": [
        "class MVTecDataset(Dataset[Tuple[torch.Tensor, int, torch.Tensor]]):\n",
        "    \"\"\"MVTec dataset of industrial objects with and without anomalies.\n",
        "\n",
        "    Yields (x, y, mask) tuples where:\n",
        "    - x is an RGB image from the class, as float tensor of shape (3, cropsize, cropsize);\n",
        "    - y is an int, 0 for good images, 1 for anomalous images;\n",
        "    - mask is 0 for normal pixels, 1 for anomalous pixels, as float tensor of shape (1, cropsize, cropsize).\n",
        "\n",
        "    Source: https://github.com/xiahaifeng1995/PaDiM-Anomaly-Detection-Localization-master/blob/main/datasets/mvtec.py\n",
        "    \"\"\"\n",
        "\n",
        "    def __init__(self, dataset_path: Path, class_name: str = 'bottle',\n",
        "                 is_train: bool = True, resize: int = 256, cropsize: int = 224, return_only_indices=False):\n",
        "        self.dataset_path = dataset_path\n",
        "        self.class_name = class_name\n",
        "        assert (dataset_path / class_name).is_dir(), f'Dataset class not found: {dataset_path / class_name}'\n",
        "        self.is_train = is_train\n",
        "\n",
        "        self.resize = resize\n",
        "        self.cropsize = cropsize\n",
        "\n",
        "        # load dataset\n",
        "        self.x, self.y, self.mask = self.load_dataset_folder()\n",
        "\n",
        "        # set transforms\n",
        "        self.transform_x = T.Compose([T.Resize(resize, Image.LANCZOS),\n",
        "                                      T.CenterCrop(cropsize),\n",
        "                                      T.ToTensor(),\n",
        "                                      T.Normalize(mean=[0.485, 0.456, 0.406],\n",
        "                                                  std=[0.229, 0.224, 0.225])])\n",
        "        self.transform_mask = T.Compose([T.Resize(resize, Image.NEAREST),\n",
        "                                         T.CenterCrop(cropsize),\n",
        "                                         T.ToTensor()])\n",
        "\n",
        "        self.return_only_indices = return_only_indices\n",
        "\n",
        "    def __getitem__(self, idx: int) -> Tuple[torch.Tensor, int, torch.Tensor]:\n",
        "        if self.return_only_indices:  # Used for checking the answer of T1.1.\n",
        "            return idx\n",
        "\n",
        "        x, y, mask = self.x[idx], self.y[idx], self.mask[idx]\n",
        "\n",
        "        x = Image.open(x).convert('RGB')\n",
        "        x = cast(torch.Tensor, self.transform_x(x))\n",
        "\n",
        "        if y == 0:\n",
        "            mask = torch.zeros([1, self.cropsize, self.cropsize])\n",
        "        else:\n",
        "            assert mask is not None\n",
        "            mask = Image.open(mask)\n",
        "            mask = cast(torch.Tensor, self.transform_mask(mask))\n",
        "\n",
        "        return x, y, mask\n",
        "\n",
        "    def __len__(self) -> int:\n",
        "        return len(self.x)\n",
        "\n",
        "    def load_dataset_folder(self) -> Tuple[List[Path], List[int], List[Optional[Path]]]:\n",
        "        phase = 'train' if self.is_train else 'test'\n",
        "        x: List[Path] = []\n",
        "        y: List[int] = []\n",
        "        mask: List[Optional[Path]] = []\n",
        "\n",
        "        img_dir = self.dataset_path / self.class_name / phase\n",
        "        gt_dir = self.dataset_path / self.class_name / 'ground_truth'\n",
        "\n",
        "        for img_type_dir in sorted(img_dir.iterdir()):\n",
        "            # Load images.\n",
        "            if not img_type_dir.is_dir():\n",
        "                continue\n",
        "            img_fpath_list = sorted(img_type_dir.glob('*.png'))\n",
        "            x.extend(img_fpath_list)\n",
        "\n",
        "            # Load ground-truth labels and masks.\n",
        "            if img_type_dir.name == 'good':\n",
        "                y.extend([0] * len(img_fpath_list))\n",
        "                mask.extend([None] * len(img_fpath_list))\n",
        "            else:\n",
        "                y.extend([1] * len(img_fpath_list))\n",
        "                mask.extend([gt_dir / img_type_dir.name / (f.stem + '_mask.png')\n",
        "                            for f in img_fpath_list])\n",
        "\n",
        "        assert len(x) == len(y) == len(mask), 'Number of x, y, and mask should be the same.'\n",
        "        return x, y, mask"
      ]
    },
    {
      "cell_type": "markdown",
      "source": [
        "### Auxilary functions"
      ],
      "metadata": {
        "id": "_qbQzMaivKGW"
      }
    },
    {
      "cell_type": "code",
      "execution_count": 17,
      "metadata": {
        "id": "8GlzgyfFmLQy"
      },
      "outputs": [],
      "source": [
        "def sample_idx(number_of_features: int, max_number_of_features: int) -> torch.Tensor:\n",
        "    assert number_of_features <= max_number_of_features\n",
        "    return torch.tensor(sample(range(0, max_number_of_features), number_of_features))\n",
        "\n",
        "\n",
        "def denormalization(x: FloatNDArray) -> NDArray[np.uint8]:\n",
        "    \"\"\"Denormalize with ImageNet values.\"\"\"\n",
        "    mean = np.array([0.485, 0.456, 0.406])\n",
        "    std = np.array([0.229, 0.224, 0.225])\n",
        "    return (((x.transpose(1, 2, 0) * std) + mean) * 255.).astype(np.uint8)\n",
        "\n",
        "\n",
        "def embedding_concat(x: torch.Tensor, y: torch.Tensor) -> torch.Tensor:\n",
        "    \"\"\"\n",
        "    Concatenate embeddings (along the channel dimension, upscaling y to match x).\n",
        "\n",
        "    Args:\n",
        "        x: Tensor of shape (B, C1, H1, W1).\n",
        "        y: Tensor of shape (B, C2, H2, W2).\n",
        "\n",
        "    Returns:\n",
        "        Tensor of shape is (B, C1 + C2, H1, W1).\n",
        "    \"\"\"\n",
        "    B, C1, H1, W1 = x.size()\n",
        "    _, C2, H2, W2 = y.size()\n",
        "    s = int(H1 / H2)\n",
        "    x = F.unfold(x, kernel_size=s, dilation=1, stride=s)\n",
        "    x = x.view(B, C1, s * s, H2, W2)\n",
        "    z = torch.zeros(B, C1 + C2, s * s, H2, W2).to(x.device)\n",
        "    for i in range(s * s):\n",
        "        z[:, :, i, :, :] = torch.cat((x[:, :, i, :, :], y), dim=1)\n",
        "    z = z.view(B, -1, H2 * W2)\n",
        "    z = F.fold(z, kernel_size=s, output_size=(H1, W1), stride=s)\n",
        "    return z\n",
        "\n",
        "def concatenate_embeddings_from_all_layers(layer_outputs: Dict[str, torch.Tensor]) -> torch.Tensor:\n",
        "        embedding_vectors = layer_outputs['layer1']\n",
        "        for layer_name in ['layer2', 'layer3']:\n",
        "            embedding_vectors = embedding_concat(embedding_vectors, layer_outputs[layer_name])\n",
        "        return embedding_vectors\n",
        "\n",
        "def plot_fig(test_img, scores, gts, threshold: float, save_dir: Path, class_name: str):\n",
        "    num = len(scores)\n",
        "    vmax = scores.max() * 255.\n",
        "    vmin = scores.min() * 255.\n",
        "    for i in range(num):\n",
        "        img = test_img[i]\n",
        "        img = denormalization(img)\n",
        "        gt = gts[i].transpose(1, 2, 0).squeeze()\n",
        "        heat_map = scores[i] * 255\n",
        "        mask = scores[i]\n",
        "        mask[mask > threshold] = 1\n",
        "        mask[mask <= threshold] = 0\n",
        "        kernel = morphology.disk(4)\n",
        "        mask = morphology.opening(mask, kernel)\n",
        "        mask *= 255\n",
        "        vis_img = mark_boundaries(img, mask, color=(1, 0, 0), mode='thick')\n",
        "        fig_img, ax_img = plt.subplots(1, 5, figsize=(12, 3))\n",
        "        fig_img.subplots_adjust(right=0.9)\n",
        "        norm = colors.Normalize(vmin=vmin, vmax=vmax)\n",
        "        for ax_i in ax_img:\n",
        "            ax_i.axes.xaxis.set_visible(False)\n",
        "            ax_i.axes.yaxis.set_visible(False)\n",
        "        ax_img[0].imshow(img)\n",
        "        ax_img[0].title.set_text('Image')\n",
        "        ax_img[1].imshow(gt, cmap='gray')\n",
        "        ax_img[1].title.set_text('GroundTruth')\n",
        "        ax = ax_img[2].imshow(heat_map, cmap='jet', norm=norm)\n",
        "        ax_img[2].imshow(img, cmap='gray', interpolation='none')\n",
        "        ax_img[2].imshow(heat_map, cmap='jet', alpha=0.5, interpolation='none')\n",
        "        ax_img[2].title.set_text('Predicted heat map')\n",
        "        ax_img[3].imshow(mask, cmap='gray')\n",
        "        ax_img[3].title.set_text('Predicted mask')\n",
        "        ax_img[4].imshow(vis_img)\n",
        "        ax_img[4].title.set_text('Segmentation result')\n",
        "        left = 0.92\n",
        "        bottom = 0.15\n",
        "        width = 0.015\n",
        "        height = 1 - 2 * bottom\n",
        "        rect = [left, bottom, width, height]\n",
        "        cbar_ax = fig_img.add_axes(rect)\n",
        "        cb = plt.colorbar(ax, shrink=0.6, cax=cbar_ax, fraction=0.046)\n",
        "        cb.ax.tick_params(labelsize=8)\n",
        "        font = {\n",
        "            'family': 'serif',\n",
        "            'color': 'black',\n",
        "            'weight': 'normal',\n",
        "            'size': 8,\n",
        "        }\n",
        "        cb.set_label('Anomaly Score', fontdict=font)\n",
        "\n",
        "        fig_img.savefig(save_dir / f'{class_name}_{i}', dpi=100)\n",
        "        plt.close()"
      ]
    },
    {
      "cell_type": "code",
      "execution_count": 18,
      "metadata": {
        "id": "QEH0R6AJmLQz"
      },
      "outputs": [],
      "source": [
        "def get_feature_extractor(arch: str) -> nn.Module:\n",
        "    if arch == 'resnet18':\n",
        "        model = resnet18(weights=ResNet18_Weights.IMAGENET1K_V1, progress=True)\n",
        "        # t_d = 448\n",
        "        # d = 40\n",
        "    elif arch == 'wide_resnet50_2':\n",
        "        model = wide_resnet50_2(weights=Wide_ResNet50_2_Weights.IMAGENET1K_V1, progress=True)\n",
        "        # t_d = 1792\n",
        "        # d = 550\n",
        "    else:\n",
        "        raise NotImplementedError\n",
        "    return model"
      ]
    },
    {
      "cell_type": "markdown",
      "metadata": {
        "id": "M-nOQw_jmLQ0"
      },
      "source": [
        "### PADIM class"
      ]
    },
    {
      "cell_type": "code",
      "execution_count": 19,
      "metadata": {
        "id": "dyVcWMclmLQ0"
      },
      "outputs": [],
      "source": [
        "class PADIM():\n",
        "\n",
        "    def __init__(\n",
        "            self,\n",
        "            backbone: str,\n",
        "            device: torch.device,\n",
        "            save_path: Path,\n",
        "            backbone_features_idx: torch.Tensor,\n",
        "            class_names: List[str] = [\"bottle\"],\n",
        "            plot_metrics: bool = False,\n",
        "    ) -> None:\n",
        "        self.arch = backbone\n",
        "        self.device = device\n",
        "        self.model = get_feature_extractor(backbone)\n",
        "        self.model.to(device)\n",
        "        self.model.eval()\n",
        "\n",
        "        self.feature_subset_indices = backbone_features_idx\n",
        "        self.feature_subset_indices.to(device)\n",
        "\n",
        "        self.outputs: Dict[str, torch.Tensor] = {}\n",
        "\n",
        "        self.class_names = class_names\n",
        "        self.save_path = save_path\n",
        "        self.plot_metrics = plot_metrics\n",
        "\n",
        "        self.setup_hooks()\n",
        "        (self.save_path / f'temp_{self.arch}').mkdir(parents=True, exist_ok=True)\n",
        "\n",
        "        self.mean: FloatNDArray  # shape (C, H * W)\n",
        "        self.cov: FloatNDArray  # shape (C, C, H * W)\n",
        "\n",
        "    def setup_hooks(self):\n",
        "        \"\"\"Setup hooks to store model's intermediate outputs.\"\"\"\n",
        "        self.model.layer1[-1].register_forward_hook(lambda _, __, x: self.outputs.update({'layer1': x}))\n",
        "        self.model.layer2[-1].register_forward_hook(lambda _, __, x: self.outputs.update({'layer2': x}))\n",
        "        self.model.layer3[-1].register_forward_hook(lambda _, __, x: self.outputs.update({'layer3': x}))\n",
        "\n",
        "    def train_and_test(self, train_dataloader: DataLoader, test_dataloader: DataLoader) -> float:\n",
        "        self.train(train_dataloader)\n",
        "        return self.test(test_dataloader)\n",
        "\n",
        "    def train(self, train_dataloader: DataLoader) -> None:\n",
        "        self.train_outputs: Dict[str, List[torch.Tensor]] = {'layer1': [], 'layer2': [], 'layer3': []}\n",
        "        for x, _, _ in tqdm(train_dataloader, desc='Feature extraction (train)'):\n",
        "            # Run model prediction.\n",
        "            with torch.no_grad():\n",
        "                _ = self.model(x.to(DEVICE))\n",
        "            # Get intermediate layer outputs.\n",
        "            assert list(self.outputs.keys())  == ['layer1', 'layer2', 'layer3'], list(self.outputs.keys())\n",
        "            for k, v in self.outputs.items():\n",
        "                self.train_outputs[k].append(v.cpu().detach())\n",
        "            # Reset hook outputs.\n",
        "            self.outputs = {}\n",
        "\n",
        "        embedding_vectors = concatenate_embeddings_from_all_layers(\n",
        "            {k: torch.cat(v, 0) for k, v in self.train_outputs.items()})\n",
        "        embedding_vectors_subset = torch.index_select(embedding_vectors, 1, self.feature_subset_indices.cpu())\n",
        "\n",
        "        self.mean, self.cov = self.estimate_multivariate_gaussian(embedding_vectors_subset)\n",
        "        del(self.train_outputs)\n",
        "\n",
        "    def estimate_multivariate_gaussian(self, embedding_vectors: torch.Tensor\n",
        "                                       ) -> Tuple[FloatNDArray, FloatNDArray]:\n",
        "        \"\"\"Calculates multivariate Gaussian distribution.\n",
        "\n",
        "        Takes embeddings of shape (N, C, H, W).\n",
        "        Returns (mean, covariance) of shape (C, H * W) and (C, C, H * W) respectively.\n",
        "        \"\"\"\n",
        "        B, C, H, W = embedding_vectors.size()\n",
        "        embedding_vectors = embedding_vectors.view(B, C, H * W)\n",
        "        mean = torch.mean(embedding_vectors, dim=0).numpy()\n",
        "        cov = torch.zeros(C, C, H * W).numpy()\n",
        "        I = np.identity(C)\n",
        "        for i in tqdm(range(H * W), desc=\"Covariance estimation\"):\n",
        "            cov[:, :, i] = np.cov(embedding_vectors[:, :, i].numpy(), rowvar=False) + 0.01 * I\n",
        "        return mean, cov\n",
        "\n",
        "    def test(self, test_dataloader: DataLoader) -> float:\n",
        "        self.test_outputs: Dict[str, List[torch.Tensor]] = {'layer1': [], 'layer2': [], 'layer3': []}\n",
        "        test_imgs: List[FloatNDArray] = []\n",
        "        gt_list: List[NDArray[Any]] = []\n",
        "        gt_mask_list: List[FloatNDArray] = []\n",
        "\n",
        "        # Extract test set features.\n",
        "        for x, y, mask in tqdm(test_dataloader, desc='Feature extraction (test)', disable=False):\n",
        "            x_shape = x.shape\n",
        "            test_imgs.extend(x.cpu().detach().numpy())\n",
        "            gt_list.extend(y.cpu().detach().numpy())\n",
        "            gt_mask_list.extend(mask.cpu().detach().numpy())\n",
        "            # Run model prediction.\n",
        "            with torch.no_grad():\n",
        "                _ = self.model(x.to(DEVICE))\n",
        "            # Get intermediate layer outputs.\n",
        "            assert list(self.outputs.keys())  == ['layer1', 'layer2', 'layer3']\n",
        "            for k, v in self.outputs.items():\n",
        "                self.test_outputs[k].append(v.cpu().detach())\n",
        "            # Reset hook outputs.\n",
        "            self.outputs = {}\n",
        "        gt_mask = np.asarray(gt_mask_list)  # shape (len(test_dataset), 1, H, W)\n",
        "\n",
        "        embedding_vectors = concatenate_embeddings_from_all_layers(\n",
        "            {k: torch.cat(v, 0) for k, v in self.test_outputs.items()})\n",
        "        # shape (len(test_dataset), len(feature_subset_indices), H1, W1)\n",
        "        embedding_vectors_subset = torch.index_select(embedding_vectors, 1, self.feature_subset_indices.cpu())\n",
        "\n",
        "        distances = self.calculate_distances(embedding_vectors_subset)\n",
        "        score_map = self.prepare_anomaly_map((x_shape[2], x_shape[3]), distances)\n",
        "\n",
        "        img_fpr, img_tpr, img_auroc = self.calculate_auroc_image_level(score_map, gt_list)\n",
        "        pxl_fpr, pxl_tpr, pxl_auroc = self.calculate_auroc_pixel_level(score_map, gt_mask)\n",
        "\n",
        "        if self.plot_metrics:\n",
        "            print(f'[TEST] Image AUROC: {img_auroc:.3f}')\n",
        "            print(f'[TEST] Pixel AUROC: {pxl_auroc:.3f}')\n",
        "            threshold = self.calculate_optimal_threshold(score_map, gt_mask)\n",
        "            self.plot_test_results_for_class(gt_mask_list, test_imgs, score_map, threshold, img_fpr, img_tpr, img_auroc, pxl_fpr, pxl_tpr, pxl_auroc)\n",
        "\n",
        "        return pxl_auroc\n",
        "\n",
        "\n",
        "    # TODO: Some of your code for Task 1 goes here. You can add more functions if needed, but use the ones below - we will use them for checking your solution.\n",
        "    def test_permutation_importance(self, val_dataloader: DataLoader, features_to_permute: List[int]) -> List[float]:\n",
        "        \"\"\"Runs a series of tests on `val_dataloader`.\n",
        "        Returns a list of pixelwise AUROCs, where the n-th element of the list is generated by testing the embeddings from `permute_feature(embeddings, n).\"\"\"\n",
        "        self.test_outputs: Dict[str, List[torch.Tensor]] = {'layer1': [], 'layer2': [], 'layer3': []}\n",
        "        test_imgs: List[FloatNDArray] = []\n",
        "        gt_list: List[NDArray[Any]] = []\n",
        "        gt_mask_list: List[FloatNDArray] = []\n",
        "\n",
        "        # Extract test set features.\n",
        "        for x, y, mask in tqdm(test_dataloader, desc='Feature extraction (test)', disable=False):\n",
        "            x_shape = x.shape\n",
        "            test_imgs.extend(x.cpu().detach().numpy())\n",
        "            gt_list.extend(y.cpu().detach().numpy())\n",
        "            gt_mask_list.extend(mask.cpu().detach().numpy())\n",
        "            # Run model prediction.\n",
        "            with torch.no_grad():\n",
        "                _ = self.model(x.to(DEVICE))\n",
        "            # Get intermediate layer outputs.\n",
        "            assert list(self.outputs.keys())  == ['layer1', 'layer2', 'layer3']\n",
        "            for k, v in self.outputs.items():\n",
        "                self.test_outputs[k].append(v.cpu().detach())\n",
        "            # Reset hook outputs.\n",
        "            self.outputs = {}\n",
        "        gt_mask = np.asarray(gt_mask_list)  # shape (len(test_dataset), 1, H, W)\n",
        "\n",
        "        embedding_vectors = concatenate_embeddings_from_all_layers(\n",
        "            {k: torch.cat(v, 0) for k, v in self.test_outputs.items()})\n",
        "        # shape (len(test_dataset), len(feature_subset_indices), H1, W1)\n",
        "\n",
        "        #HERE CHANGED:\n",
        "        result = []\n",
        "        for j in features_to_permute:\n",
        "          embedding_vectors_subset = torch.index_select(embedding_vectors, 1, self.feature_subset_indices.cpu())\n",
        "          embedding_vectors_subset_permuted = permute_feature(embedding_vectors_subset, j)\n",
        "\n",
        "          distances = self.calculate_distances(embedding_vectors_subset_permuted)\n",
        "          score_map = self.prepare_anomaly_map((x_shape[2], x_shape[3]), distances)\n",
        "\n",
        "          img_fpr, img_tpr, img_auroc = self.calculate_auroc_image_level(score_map, gt_list)\n",
        "          pxl_fpr, pxl_tpr, pxl_auroc = self.calculate_auroc_pixel_level(score_map, gt_mask)\n",
        "\n",
        "          result.append(pxl_auroc)\n",
        "        return result\n",
        "\n",
        "\n",
        "    def permute_feature(self, embedding_vectors_subset: torch.Tensor, number_of_feature_to_permute: int) -> torch.Tensor:\n",
        "        \"\"\"Permutes the embeddings.\n",
        "\n",
        "        Takes embeddings of shape (N, C, H, W) and feature number to permute.\n",
        "        Returns embeddings with the same shape. See the description of T1 for the details.\n",
        "        \"\"\"\n",
        "        v = embedding_vectors_subset.numpy()\n",
        "        (N, C, H, W) = v.shape\n",
        "        shape = (N, H, W)\n",
        "\n",
        "        rng = np.random.default_rng()\n",
        "        v[:, number_of_feature_to_permute] = rng.permuted((v[:, number_of_feature_to_permute]).reshape(N, -1), axis = 1).reshape(shape)\n",
        "\n",
        "        return embedding_vectors_subset\n",
        "    # TODO: End of your code for Task 1 (here)\n",
        "\n",
        "    def plot_test_results_for_class(self, gt_mask_list, test_imgs,\n",
        "                                    score_map, threshold: float,\n",
        "                                    img_fpr, img_tpr, img_auroc: float,\n",
        "                                    pxl_fpr, pxl_tpr, pxl_auroc: float):\n",
        "        _, ax = plt.subplots(1, 2, figsize=(8, 4))\n",
        "        ax[0].plot(img_fpr, img_tpr, label=f'Image AUROC: {img_auroc:.3f}')\n",
        "        ax[1].plot(pxl_fpr, pxl_tpr, label=f'Pixel AUROC: {pxl_auroc:.3f}')\n",
        "\n",
        "        save_dir = self.save_path / f'pictures_{self.arch}'\n",
        "        save_dir.mkdir(parents=True, exist_ok=True)\n",
        "        plot_fig(test_imgs, score_map, gt_mask_list,\n",
        "                 threshold, save_dir, \"\")\n",
        "\n",
        "    def calculate_auroc_image_level(self, score_map: FloatNDArray, gt_list: List[NDArray[Any]]) -> Tuple[FloatNDArray, FloatNDArray, float]:\n",
        "        \"\"\"Calculate image-level AUROC score.\"\"\"\n",
        "        img_scores = score_map.reshape(score_map.shape[0], -1).max(axis=1)\n",
        "        fpr, tpr, _ = roc_curve(gt_list, img_scores)  # false-positive-rates and true-positive-rates for consecutive thresholds (for plotting).\n",
        "        img_auroc = roc_auc_score(gt_list, img_scores)\n",
        "        return fpr, tpr, float(img_auroc)\n",
        "\n",
        "    def calculate_auroc_pixel_level(self, score_map: FloatNDArray, gt_mask: FloatNDArray) -> Tuple[FloatNDArray, FloatNDArray, float]:\n",
        "        \"\"\"Calculate per-pixel level AUROC.\"\"\"\n",
        "        assert score_map.shape == gt_mask.squeeze().shape, f\"{score_map.shape=}, {gt_mask.shape=}\"\n",
        "        fpr, tpr, _ = roc_curve(gt_mask.flatten(), score_map.flatten())\n",
        "        per_pixel_auroc = roc_auc_score(gt_mask.flatten(), score_map.flatten())\n",
        "        return fpr, tpr, float(per_pixel_auroc)\n",
        "\n",
        "    def calculate_optimal_threshold(self, score_map: FloatNDArray, gt_mask: FloatNDArray) -> float:\n",
        "        \"\"\"Calculate the optimal threshold with regard to F1 score.\"\"\"\n",
        "        assert score_map.shape == gt_mask.squeeze().shape\n",
        "        precision, recall, thresholds = precision_recall_curve(\n",
        "            gt_mask.flatten(), score_map.flatten())\n",
        "        a = 2 * precision * recall\n",
        "        b = precision + recall\n",
        "        f1 = np.divide(a, b, out=np.zeros_like(a), where=(b != 0))\n",
        "        threshold = thresholds[np.argmax(f1)]\n",
        "        return threshold\n",
        "\n",
        "    def calculate_distances(self, embedding_vectors: torch.Tensor) -> FloatNDArray:\n",
        "        \"\"\"Calculate Mahalanobis distance of each embedding vector from self.mean.\n",
        "\n",
        "        For embeddings of shape (N, C, H, W), returns shape (N, H, W).\n",
        "        \"\"\"\n",
        "        B, C, H, W = embedding_vectors.size()\n",
        "        embedding_vectors = embedding_vectors.view(B, C, H * W).numpy()\n",
        "        dist_list: List[List[np.float64]] = []\n",
        "        for i in range(H * W):\n",
        "            mean = self.mean[:, i]\n",
        "            conv_inv = np.linalg.inv(self.cov[:, :, i])\n",
        "            dist = [mahalanobis(sample[:, i], mean, conv_inv)\n",
        "                    for sample in embedding_vectors]\n",
        "            dist_list.append(dist)\n",
        "\n",
        "        return np.array(dist_list).transpose(1, 0).reshape(B, H, W)\n",
        "\n",
        "    def prepare_anomaly_map(self, shape: Tuple[int, int], distances: FloatNDArray) -> FloatNDArray:\n",
        "        \"\"\"Upsample distances to `shape`, apply Gaussian smoothing, and normalize to [0,1].\n",
        "\n",
        "        For distances of shape (N, H, W) and `shape` equal to (H2, W2), returns shape (N, H2, W2).\n",
        "        \"\"\"\n",
        "        dists = torch.Tensor(distances).unsqueeze(1)\n",
        "        shape = (dists.shape[0],) + shape\n",
        "        score_map = cast(FloatNDArray, F.interpolate(\n",
        "            dists, size=shape[2], mode='bilinear', align_corners=False).squeeze().numpy())\n",
        "        for i in range(score_map.shape[0]):\n",
        "            score_map[i] = gaussian_filter(score_map[i], sigma=4)\n",
        "\n",
        "        min_score, max_score = score_map.min(), score_map.max()\n",
        "        return (score_map - min_score) / (max_score - min_score + 1e-10)"
      ]
    },
    {
      "cell_type": "markdown",
      "metadata": {
        "id": "OIwEDh_mmLQ1"
      },
      "source": [
        "### Let's see whether it works.\n",
        "Take a look to the `SAVE_PATH` to inspect the results."
      ]
    },
    {
      "cell_type": "code",
      "execution_count": 13,
      "metadata": {
        "id": "HmkGymWImLQ1",
        "outputId": "2685cd20-2c40-454a-90dc-53c3850438fc",
        "colab": {
          "base_uri": "https://localhost:8080/",
          "height": 193
        }
      },
      "outputs": [
        {
          "output_type": "stream",
          "name": "stdout",
          "text": [
            "========== bottle\n"
          ]
        },
        {
          "output_type": "stream",
          "name": "stderr",
          "text": [
            "Downloading: \"https://download.pytorch.org/models/resnet18-f37072fd.pth\" to /root/.cache/torch/hub/checkpoints/resnet18-f37072fd.pth\n",
            "100%|██████████| 44.7M/44.7M [00:00<00:00, 122MB/s]\n",
            "Feature extraction (train): 100%|██████████| 105/105 [01:03<00:00,  1.66it/s]\n",
            "Covariance estimation: 100%|██████████| 3136/3136 [00:03<00:00, 1038.52it/s]\n",
            "Feature extraction (test): 100%|██████████| 42/42 [00:15<00:00,  2.75it/s]\n"
          ]
        },
        {
          "output_type": "stream",
          "name": "stdout",
          "text": [
            "[TEST] Image AUROC: 0.998\n",
            "[TEST] Pixel AUROC: 0.981\n"
          ]
        },
        {
          "output_type": "display_data",
          "data": {
            "text/plain": [
              "<Figure size 800x400 with 2 Axes>"
            ],
            "image/png": "[encoded data removed]"
          },
          "metadata": {}
        }
      ],
      "source": [
        "seed_all(SEED)\n",
        "CLASS_NAMES = [\n",
        "            'bottle', #'metal_nut'\n",
        "            # 'cable', 'capsule', 'carpet', 'grid', 'hazelnut', 'leather',\n",
        "            # 'pill', 'screw', 'tile', 'toothbrush', 'transistor', 'wood', 'zipper'\n",
        "        ]\n",
        "BATCH_SIZE = 2\n",
        "RESIZE = 256 * 1\n",
        "CROP_SIZE = 224 * 1\n",
        "BACKBONE = \"resnet18\"\n",
        "NUMBER_OF_BACKBONE_FEATURES = 50\n",
        "MAX_NUMBER_OF_BACKBONE_FEATURES = 448\n",
        "\n",
        "run_timestamp = time.time()\n",
        "for class_name in CLASS_NAMES:\n",
        "    print('=' * 10, class_name)\n",
        "    SAVE_PATH = Path(f\"./results/{run_timestamp}/{class_name}\")\n",
        "\n",
        "    train_dataset = MVTecDataset(DATA_PATH, class_name=class_name, is_train=True, resize=RESIZE, cropsize=CROP_SIZE)\n",
        "    train_dataloader = DataLoader(train_dataset, batch_size=BATCH_SIZE, pin_memory=True)\n",
        "    test_dataset = MVTecDataset(DATA_PATH, class_name=class_name, is_train=False, resize=RESIZE, cropsize=CROP_SIZE)\n",
        "    test_dataloader = DataLoader(test_dataset, batch_size=BATCH_SIZE, pin_memory=True)\n",
        "\n",
        "    padim = PADIM(\n",
        "        backbone=BACKBONE,\n",
        "        device=DEVICE,\n",
        "        backbone_features_idx=sample_idx(NUMBER_OF_BACKBONE_FEATURES, MAX_NUMBER_OF_BACKBONE_FEATURES),\n",
        "        save_path=SAVE_PATH,\n",
        "        plot_metrics=True,\n",
        "    )\n",
        "\n",
        "    padim.train_and_test(\n",
        "        train_dataloader=train_dataloader,\n",
        "        test_dataloader=test_dataloader,\n",
        "    )"
      ]
    },
    {
      "cell_type": "markdown",
      "source": [
        "## permutations testing:"
      ],
      "metadata": {
        "id": "6M5fU8qjuPkL"
      }
    },
    {
      "cell_type": "code",
      "source": [
        "def permute_feature(embedding_vectors_subset: torch.Tensor, number_of_feature_to_permute: int) -> torch.Tensor:\n",
        "        \"\"\"Permutes the embeddings.\n",
        "\n",
        "        Takes embeddings of shape (N, C, H, W) and feature number to permute.\n",
        "        Returns embeddings with the same shape. See the description of T1 for the details.\n",
        "        \"\"\"\n",
        "        v = embedding_vectors_subset.numpy()\n",
        "        (N, C, H, W) = v.shape\n",
        "        shape = (N, H, W)\n",
        "\n",
        "        rng = np.random.default_rng()\n",
        "        v[:, number_of_feature_to_permute] = rng.permuted((v[:, number_of_feature_to_permute]).reshape(N, -1), axis = 1).reshape(shape)\n",
        "\n",
        "        return torch.from_numpy(v)\n",
        "    # TODO: End of your code for Task 1 (here)"
      ],
      "metadata": {
        "id": "22e7VLEUxE8v"
      },
      "execution_count": 21,
      "outputs": []
    },
    {
      "cell_type": "code",
      "source": [
        "vector = torch.linspace(1, 90, 90).reshape(2, 5, 3, 3)\n",
        "print(vector[:, 3, :, :])\n",
        "print(vector[:, 4, :, :]) #not permuted\n",
        "permute_feature(vector, 3)\n",
        "print(vector[:, 3, :, :]) #permuted - for each image in different way\n",
        "print(vector[:,4,:,:]) #not permuted\n",
        "vector = None"
      ],
      "metadata": {
        "colab": {
          "base_uri": "https://localhost:8080/"
        },
        "id": "3q1TVDKGo4Ib",
        "outputId": "88f8a1d5-c583-4473-b5c0-cb4d5fb65580"
      },
      "execution_count": 23,
      "outputs": [
        {
          "output_type": "stream",
          "name": "stdout",
          "text": [
            "tensor([[[28., 29., 30.],\n",
            "         [31., 32., 33.],\n",
            "         [34., 35., 36.]],\n",
            "\n",
            "        [[73., 74., 75.],\n",
            "         [76., 77., 78.],\n",
            "         [79., 80., 81.]]])\n",
            "tensor([[[37., 38., 39.],\n",
            "         [40., 41., 42.],\n",
            "         [43., 44., 45.]],\n",
            "\n",
            "        [[82., 83., 84.],\n",
            "         [85., 86., 87.],\n",
            "         [88., 89., 90.]]])\n",
            "tensor([[[33., 34., 35.],\n",
            "         [36., 28., 29.],\n",
            "         [30., 31., 32.]],\n",
            "\n",
            "        [[77., 80., 81.],\n",
            "         [76., 79., 74.],\n",
            "         [73., 75., 78.]]])\n",
            "tensor([[[37., 38., 39.],\n",
            "         [40., 41., 42.],\n",
            "         [43., 44., 45.]],\n",
            "\n",
            "        [[82., 83., 84.],\n",
            "         [85., 86., 87.],\n",
            "         [88., 89., 90.]]])\n"
          ]
        }
      ]
    },
    {
      "cell_type": "markdown",
      "source": [
        "# Task 1. Finding the right features (40%)"
      ],
      "metadata": {
        "id": "P2bblYGz8N_u"
      }
    },
    {
      "cell_type": "markdown",
      "metadata": {
        "id": "hxQbIw6xmLQ2"
      },
      "source": [
        "The authors of the paper argue that it doesn't really matter how we choose a subset of features. Let's make some steps towards exploring whether it's true for three different classes (`bottle`, `transistor`, `metal_nut`).\n",
        "Design an experiment which will rank the ResNet18 features by its importance. To do so, we'll implement our variation of [permutation feature importance](https://scikit-learn.org/stable/modules/permutation_importance.html#outline-of-the-permutation-importance-algorithm) on a subset of features produced by the backbone."
      ]
    },
    {
      "cell_type": "markdown",
      "source": [
        "### Settings"
      ],
      "metadata": {
        "id": "aktE2KU6y4Hf"
      }
    },
    {
      "cell_type": "code",
      "execution_count": 6,
      "metadata": {
        "id": "LR3oW4svmLQ4"
      },
      "outputs": [],
      "source": [
        "# do not modify\n",
        "CLASS_NAMES = ['bottle', 'transistor', 'metal_nut']\n",
        "\n",
        "BATCH_SIZE = 1\n",
        "RESIZE = 256 * 2 // 4\n",
        "CROP_SIZE = 224 * 2 // 4\n",
        "BACKBONE = \"resnet18\"\n",
        "NUMBER_OF_BACKBONE_FEATURES = 10\n",
        "MAX_NUMBER_OF_BACKBONE_FEATURES = 100  # 448\n",
        "folds = 3"
      ]
    },
    {
      "cell_type": "code",
      "execution_count": 11,
      "metadata": {
        "id": "EyPM0H0YmLQ4",
        "colab": {
          "base_uri": "https://localhost:8080/"
        },
        "outputId": "ff6720ce-b19e-4d3b-f724-e3cfa164cef2"
      },
      "outputs": [
        {
          "output_type": "stream",
          "name": "stdout",
          "text": [
            "1702961399.118546\n"
          ]
        }
      ],
      "source": [
        "seed_all(SEED)\n",
        "results = {c: [0] * MAX_NUMBER_OF_BACKBONE_FEATURES for c in CLASS_NAMES}\n",
        "\n",
        "run_timestamp = time.time()\n",
        "print(f\"{run_timestamp}\")\n",
        "\n",
        "idx_all_fatures = torch.Tensor(range(MAX_NUMBER_OF_BACKBONE_FEATURES)).int()\n",
        "idx_all_features = idx_all_fatures\n",
        "idx_first_n_features = torch.Tensor(range(NUMBER_OF_BACKBONE_FEATURES)).int()\n",
        "\n",
        "dataloaders = {c: {\"val_dataloader\": None, \"test_dataloader\": None, \"train_dataloaders\": None} for c in CLASS_NAMES}\n",
        "\n",
        "# TODO: Your code for T1.1, T1.2, and T1.3 goes below. Don't forget to write `test_permutation_importance` and `permute_feature` above in the PADIM code."
      ]
    },
    {
      "cell_type": "markdown",
      "source": [
        "## My code:"
      ],
      "metadata": {
        "id": "Zm37ooQRvlYx"
      }
    },
    {
      "cell_type": "markdown",
      "source": [
        "## 1.1 Preparing the data"
      ],
      "metadata": {
        "id": "ORqKt1NKv6QU"
      }
    },
    {
      "cell_type": "markdown",
      "source": [
        "- Using the test dataset, create `val_dataloader` (every even sample from the original test dataset) and `test_dataloader` (every odd sample). `SubsetRandomSampler` might be handy here.\n",
        "- Then, create 3-fold cross validation-like process in which you'll train PADIM on the first 100 ResNet features in three equally sized subsets of train dataset in which you discard 1/3 of the data ($\\texttt{padim.train}(\\texttt{train\\_dataloader}_k)$) (see below). Again, `SubsetRandomSampler` might be handy here.\n",
        "\n",
        "In other words, you should have:\n",
        "\n",
        "- for $k=0$, the first 10 images indexes from the train dataset we should train on are `[1, 2, 4, 5, 7, 8, 10, 11, 13, 14]`,\n",
        "- for $k=1$, that's `[0, 2, 3, 5, 6, 8, 9, 11, 12, 14]`,\n",
        "- and for $k=2$, that's `[0, 1, 3, 4, 6, 7, 9, 10, 12, 13]`.\n",
        "\n",
        "For val and train, you should have `[0, 2, 4, ...]` and `[1, 3, 5, ...]` respectively (from the test dataset).\n",
        "\n",
        "Don't worry about the sampling order.\n",
        "Use these names for DataLoaders `val_dataloader`, `test_dataloader`. For k-fold training, store dataloaders in `train_dataloaders: List[DataLoader]`, where each element represent different $k$.\n",
        "For each class, store the results in `dataloaders` dictionary (defined below) - we will use this to check your solution."
      ],
      "metadata": {
        "id": "eRALDvFh5sEl"
      }
    },
    {
      "cell_type": "code",
      "source": [
        "for class_name in CLASS_NAMES:\n",
        "  test_dataset = MVTecDataset(DATA_PATH, class_name=class_name, is_train=False, resize=RESIZE, cropsize=CROP_SIZE)\n",
        "  test_indices = range(len(test_dataset))\n",
        "\n",
        "  even_indices = [i for i in test_indices if i % 2 == 0]\n",
        "  even_sampler = torch.utils.data.SubsetRandomSampler(even_indices)\n",
        "  val_dataloader = torch.utils.data.DataLoader(dataset=test_dataset, batch_size=BATCH_SIZE, sampler=even_sampler, pin_memory=True)\n",
        "\n",
        "  odd_indices = [i for i in test_indices if i % 2 == 1]\n",
        "  odd_sampler = torch.utils.data.SubsetRandomSampler(odd_indices)\n",
        "  test_dataloader = torch.utils.data.DataLoader(dataset=test_dataset, batch_size=BATCH_SIZE, sampler=odd_sampler, pin_memory=True)\n",
        "\n",
        "  dataloaders[class_name][\"val_dataloader\"] = val_dataloader\n",
        "  dataloaders[class_name][\"test_dataloader\"] = test_dataloader\n",
        "\n",
        "\n",
        "  train_dataset = MVTecDataset(DATA_PATH, class_name=class_name, is_train=True, resize=RESIZE, cropsize=CROP_SIZE)\n",
        "  train_indices = range(len(train_dataset))\n",
        "\n",
        "  train_dataloaders = []\n",
        "  K = folds\n",
        "  for k in range(K):\n",
        "    k_train_indices = [i for i in train_indices if i % K != k]\n",
        "    k_train_sampler = torch.utils.data.SubsetRandomSampler(k_train_indices)\n",
        "    k_train_dataloader = torch.utils.data.DataLoader(dataset=train_dataset, batch_size=BATCH_SIZE, sampler=k_train_sampler, pin_memory=True)\n",
        "    train_dataloaders.append(k_train_dataloader)\n",
        "\n",
        "  dataloaders[class_name][\"train_dataloaders\"] = train_dataloaders"
      ],
      "metadata": {
        "id": "oHjyIlsJ6tiA"
      },
      "execution_count": 22,
      "outputs": []
    },
    {
      "cell_type": "markdown",
      "source": [
        "## 1.2 Calculating the importances"
      ],
      "metadata": {
        "id": "Wvv96d0f6MPl"
      }
    },
    {
      "cell_type": "markdown",
      "source": [
        "- In a given fold, each $j$-th feature shall be ranked based on the pixel-wise AUROC difference between the output of that model ($s_{k} \\leftarrow \\texttt{padim.test}(\\texttt{val\\_dataloader})$) and the output with the model with permuted $j$-th feature ($s_{k, j} \\leftarrow \\texttt{padim.test}(\\texttt{val\\_dataloader, feature\\_to\\_permute=}j)$). See also `test_permutation_importance` method stub above.\n",
        "- Implement `permute_feature` method as follows: given the tensor with embeddings with shape `[B, C, H, W]`, by permutation of the $j$-th feature we mean randomly swapped values for $C=j$. The order of swapping shall be **different** for every image. In other words, for every image $b$ and feature $j$ you need to shuffle the last two dimensions (marked as stars in `[b, j, *, *]`) in an unique manner.\n",
        "- Then, calculate the mean importance $i$ averaged on these folds and plot weights importance for the class ($i_j \\leftarrow  \\frac{1}{K} \\sum_{k = 0}^{K-1} s_{k} - s_{k, j}$, where $K$ is the number of folds).\n",
        "- Append results in `results` dictionary, where keys are class names and values are the lists of averaged feature importances (from feature 0 to feature 99)."
      ],
      "metadata": {
        "id": "YCrdXMA0v_nj"
      }
    },
    {
      "cell_type": "code",
      "source": [
        "run_timestamp = time.time()\n",
        "\n",
        "for class_name in CLASS_NAMES:\n",
        "  for k in range(folds):\n",
        "    SAVE_PATH = Path(f\"./results/{run_timestamp}/{class_name}\")\n",
        "    padim = PADIM(backbone=BACKBONE, device=DEVICE,\n",
        "        backbone_features_idx=idx_all_features,\n",
        "        save_path=SAVE_PATH, class_names=[class_name], plot_metrics=False)\n",
        "    padim.train(dataloaders[class_name][\"train_dataloaders\"][k])\n",
        "\n",
        "    s_k = padim.test(dataloaders[class_name][\"val_dataloader\"])\n",
        "    s_k_js = padim.test_permutation_importance(dataloaders[class_name][\"val_dataloader\"], features_to_permute = idx_all_features)\n",
        "    for j in idx_all_features:\n",
        "      results[class_name][j] += ((s_k - s_k_js[j]) / folds)"
      ],
      "metadata": {
        "colab": {
          "base_uri": "https://localhost:8080/"
        },
        "id": "OB-Hpj8Cv1Tq",
        "outputId": "519c9000-d440-48ae-eec9-d0877c0489f0"
      },
      "execution_count": 27,
      "outputs": [
        {
          "output_type": "stream",
          "name": "stderr",
          "text": [
            "Feature extraction (train): 100%|██████████| 139/139 [00:11<00:00, 12.08it/s]\n",
            "Covariance estimation: 100%|██████████| 784/784 [00:00<00:00, 1031.11it/s]\n",
            "Feature extraction (test): 100%|██████████| 42/42 [00:04<00:00,  9.48it/s]\n",
            "Feature extraction (test): 100%|██████████| 57/57 [00:03<00:00, 15.29it/s]\n",
            "Feature extraction (train): 100%|██████████| 139/139 [00:15<00:00,  8.99it/s]\n",
            "Covariance estimation: 100%|██████████| 784/784 [00:01<00:00, 678.21it/s]\n",
            "Feature extraction (test): 100%|██████████| 42/42 [00:04<00:00,  9.78it/s]\n",
            "Feature extraction (test): 100%|██████████| 57/57 [00:07<00:00,  7.61it/s]\n",
            "Feature extraction (train): 100%|██████████| 140/140 [00:11<00:00, 11.68it/s]\n",
            "Covariance estimation: 100%|██████████| 784/784 [00:01<00:00, 395.14it/s]\n",
            "Feature extraction (test): 100%|██████████| 42/42 [00:03<00:00, 12.72it/s]\n",
            "Feature extraction (test): 100%|██████████| 57/57 [00:07<00:00,  7.94it/s]\n",
            "Feature extraction (train): 100%|██████████| 142/142 [00:22<00:00,  6.37it/s]\n",
            "Covariance estimation: 100%|██████████| 784/784 [00:00<00:00, 817.92it/s]\n",
            "Feature extraction (test): 100%|██████████| 50/50 [00:08<00:00,  5.74it/s]\n",
            "Feature extraction (test): 100%|██████████| 57/57 [00:05<00:00, 10.50it/s]\n",
            "Feature extraction (train): 100%|██████████| 142/142 [00:23<00:00,  6.05it/s]\n",
            "Covariance estimation: 100%|██████████| 784/784 [00:01<00:00, 710.88it/s]\n",
            "Feature extraction (test): 100%|██████████| 50/50 [00:08<00:00,  6.02it/s]\n",
            "Feature extraction (test): 100%|██████████| 57/57 [00:03<00:00, 14.91it/s]\n",
            "Feature extraction (train): 100%|██████████| 142/142 [00:21<00:00,  6.50it/s]\n",
            "Covariance estimation: 100%|██████████| 784/784 [00:02<00:00, 333.02it/s]\n",
            "Feature extraction (test): 100%|██████████| 50/50 [00:06<00:00,  7.39it/s]\n",
            "Feature extraction (test): 100%|██████████| 57/57 [00:05<00:00, 10.48it/s]\n",
            "Feature extraction (train): 100%|██████████| 146/146 [00:16<00:00,  8.68it/s]\n",
            "Covariance estimation: 100%|██████████| 784/784 [00:01<00:00, 661.87it/s]\n",
            "Feature extraction (test): 100%|██████████| 58/58 [00:06<00:00,  8.99it/s]\n",
            "Feature extraction (test): 100%|██████████| 57/57 [00:04<00:00, 12.77it/s]\n",
            "Feature extraction (train): 100%|██████████| 147/147 [00:09<00:00, 15.08it/s]\n",
            "Covariance estimation: 100%|██████████| 784/784 [00:01<00:00, 574.01it/s]\n",
            "Feature extraction (test): 100%|██████████| 58/58 [00:03<00:00, 14.94it/s]\n",
            "Feature extraction (test): 100%|██████████| 57/57 [00:03<00:00, 14.39it/s]\n",
            "Feature extraction (train): 100%|██████████| 147/147 [00:10<00:00, 13.85it/s]\n",
            "Covariance estimation: 100%|██████████| 784/784 [00:00<00:00, 1100.26it/s]\n",
            "Feature extraction (test): 100%|██████████| 58/58 [00:03<00:00, 15.30it/s]\n",
            "Feature extraction (test): 100%|██████████| 57/57 [00:04<00:00, 11.70it/s]\n"
          ]
        }
      ]
    },
    {
      "cell_type": "code",
      "source": [
        "# Save to file\n",
        "for class_name in CLASS_NAMES:\n",
        "  x = torch.tensor(results[class_name])\n",
        "  torch.save(x, ('result_for_' + class_name))"
      ],
      "metadata": {
        "id": "3ctFkWky7gng"
      },
      "execution_count": 28,
      "outputs": []
    },
    {
      "cell_type": "code",
      "source": [
        "##For problems with runtime:\n",
        "\n",
        "# results = {c: [0] * MAX_NUMBER_OF_BACKBONE_FEATURES for c in CLASS_NAMES}\n",
        "# results['bottle'] = torch.load('result_for_bottle')\n",
        "# results['metal_nut'] = torch.load('result_for_metal_nut')\n",
        "# results['transistor'] = torch.load('result_for_transistor')"
      ],
      "metadata": {
        "id": "HJUsrJ-JBDZz"
      },
      "execution_count": 13,
      "outputs": []
    },
    {
      "cell_type": "code",
      "source": [
        "#plot feature importance:\n",
        "for class_name in CLASS_NAMES:\n",
        "  plt.plot(results[class_name], 'ro')\n",
        "  plt.ylabel('feature importance')\n",
        "  plt.suptitle(class_name)\n",
        "  plt.show()"
      ],
      "metadata": {
        "colab": {
          "base_uri": "https://localhost:8080/",
          "height": 1000
        },
        "id": "gYKyELbX-4PB",
        "outputId": "4de6cb5d-0e8c-4b6c-e6bf-462795264883"
      },
      "execution_count": 29,
      "outputs": [
        {
          "output_type": "display_data",
          "data": {
            "text/plain": [
              "<Figure size 640x480 with 1 Axes>"
            ],
            "image/png": "[encoded data removed]"
          },
          "metadata": {}
        },
        {
          "output_type": "display_data",
          "data": {
            "text/plain": [
              "<Figure size 640x480 with 1 Axes>"
            ],
            "image/png": "[encoded data removed]"
          },
          "metadata": {}
        },
        {
          "output_type": "display_data",
          "data": {
            "text/plain": [
              "<Figure size 640x480 with 1 Axes>"
            ],
            "image/png": "[encoded data removed]"
          },
          "metadata": {}
        }
      ]
    },
    {
      "cell_type": "markdown",
      "source": [
        "## 1.3 Drawing conclusions"
      ],
      "metadata": {
        "id": "PnvAECNh6IQN"
      }
    },
    {
      "cell_type": "markdown",
      "source": [
        "- Finally, for every class train three models on the full training data and evaluate it on the `test_dataloader`. The first model shall use the first 10 features, the second shall use worst 10 features (in terms of feature importance), and the third shall contain the best 10 features.\n",
        "- Write your conclusions (with the things enlisted below in mind). Simply plotting charts or outputting logs without any comment doesn't qualify as an answer to a question.\n",
        "\n",
        "Note 1: Limit yourself to the first 100 features of ResNet18. If you want, you can go with all of available features instead of 100, but it'll take some time to calculate. Converting parts of the code to PyTorch and running on GPU might change a lot here, but this is not evaluated in this exercise. This experiment can be calculated without GPU in less than one hour anyway.\n",
        "\n",
        "Note 2: If you'd like to be fully covered, one needs to explore if the features are correlated, as this might bias the results of feature importance calculations. However, this is not evaluated in this task for the sake of simplicity (that is, examining the 100 first features without worrying about correlated features are enough to get 100% from this task)."
      ],
      "metadata": {
        "id": "du4hemmI8I59"
      }
    },
    {
      "cell_type": "code",
      "source": [
        "best_features = {c: [0] * NUMBER_OF_BACKBONE_FEATURES for c in CLASS_NAMES}\n",
        "worst_features = {c: [0] * NUMBER_OF_BACKBONE_FEATURES for c in CLASS_NAMES}\n",
        "\n",
        "for class_name in CLASS_NAMES:\n",
        "  order = np.argsort(results[class_name]) #increasing\n",
        "\n",
        "  worst_features[class_name] = list(order[:NUMBER_OF_BACKBONE_FEATURES])\n",
        "  best_features[class_name] = list(order[-NUMBER_OF_BACKBONE_FEATURES:])\n",
        "\n",
        "  #print(np.array(results[class_name])[order[:10]])\n",
        "  #print(np.array(results[class_name])[order[-10:]])"
      ],
      "metadata": {
        "id": "JUT4eFer8G6r"
      },
      "execution_count": 20,
      "outputs": []
    },
    {
      "cell_type": "code",
      "source": [
        "evaluations = {c: {\"first\": None, \"best\": None, \"worst\": None} for c in CLASS_NAMES}\n",
        "\n",
        "run_timestamp = time.time()\n",
        "\n",
        "for class_name in CLASS_NAMES:\n",
        "  train_dataset = MVTecDataset(DATA_PATH, class_name=class_name, is_train=True, resize=RESIZE, cropsize=CROP_SIZE)\n",
        "  train_dataloader = DataLoader(train_dataset, batch_size=BATCH_SIZE, pin_memory=True)\n",
        "\n",
        "  SAVE_PATH = Path(f\"./results/{run_timestamp}/{class_name}/{'first'}\")\n",
        "  padim_first = PADIM(backbone=BACKBONE, device=DEVICE,\n",
        "    backbone_features_idx=idx_first_n_features,\n",
        "    save_path=SAVE_PATH, class_names=[class_name], plot_metrics=True)\n",
        "  padim_first.train(train_dataloader)\n",
        "\n",
        "  SAVE_PATH = Path(f\"./results/{run_timestamp}/{class_name}/{'best'}\")\n",
        "  padim_best = PADIM(backbone=BACKBONE, device=DEVICE,\n",
        "    backbone_features_idx=torch.tensor(best_features[class_name]),\n",
        "    save_path=SAVE_PATH, class_names=[class_name], plot_metrics=True)\n",
        "  padim_best.train(train_dataloader)\n",
        "\n",
        "  SAVE_PATH = Path(f\"./results/{run_timestamp}/{class_name}/{'worst'}\")\n",
        "  padim_worst = PADIM(backbone=BACKBONE, device=DEVICE,\n",
        "    backbone_features_idx=torch.tensor(worst_features[class_name]),\n",
        "    save_path=SAVE_PATH, class_names=[class_name], plot_metrics=True)\n",
        "  padim_worst.train(train_dataloader)\n",
        "\n",
        "  evaluations[class_name][\"first\"] = padim_first.test(dataloaders[class_name][\"test_dataloader\"])\n",
        "  evaluations[class_name][\"best\"] = padim_best.test(dataloaders[class_name][\"test_dataloader\"])\n",
        "  evaluations[class_name][\"worst\"] = padim_worst.test(dataloaders[class_name][\"test_dataloader\"])"
      ],
      "metadata": {
        "colab": {
          "base_uri": "https://localhost:8080/",
          "height": 1000
        },
        "id": "EmIX1nVB9n8F",
        "outputId": "aa47dba8-8fc6-41ca-ed5e-5d5a787c3190"
      },
      "execution_count": 23,
      "outputs": [
        {
          "output_type": "stream",
          "name": "stderr",
          "text": [
            "Feature extraction (train): 100%|██████████| 209/209 [00:18<00:00, 11.15it/s]\n",
            "Covariance estimation: 100%|██████████| 784/784 [00:00<00:00, 5068.21it/s]\n",
            "Feature extraction (train): 100%|██████████| 209/209 [00:16<00:00, 12.32it/s]\n",
            "Covariance estimation: 100%|██████████| 784/784 [00:00<00:00, 4018.65it/s]\n",
            "Feature extraction (train): 100%|██████████| 209/209 [00:18<00:00, 11.51it/s]\n",
            "Covariance estimation: 100%|██████████| 784/784 [00:00<00:00, 5646.78it/s]\n",
            "Feature extraction (test): 100%|██████████| 41/41 [00:03<00:00, 12.09it/s]\n"
          ]
        },
        {
          "output_type": "stream",
          "name": "stdout",
          "text": [
            "[TEST] Image AUROC: 0.994\n",
            "[TEST] Pixel AUROC: 0.970\n"
          ]
        },
        {
          "output_type": "stream",
          "name": "stderr",
          "text": [
            "Feature extraction (test): 100%|██████████| 41/41 [00:03<00:00, 10.65it/s]\n"
          ]
        },
        {
          "output_type": "stream",
          "name": "stdout",
          "text": [
            "[TEST] Image AUROC: 0.965\n",
            "[TEST] Pixel AUROC: 0.971\n"
          ]
        },
        {
          "output_type": "stream",
          "name": "stderr",
          "text": [
            "Feature extraction (test): 100%|██████████| 41/41 [00:03<00:00, 12.13it/s]\n"
          ]
        },
        {
          "output_type": "stream",
          "name": "stdout",
          "text": [
            "[TEST] Image AUROC: 0.994\n",
            "[TEST] Pixel AUROC: 0.971\n"
          ]
        },
        {
          "output_type": "stream",
          "name": "stderr",
          "text": [
            "Feature extraction (train): 100%|██████████| 213/213 [00:24<00:00,  8.54it/s]\n",
            "Covariance estimation: 100%|██████████| 784/784 [00:00<00:00, 5436.61it/s]\n",
            "Feature extraction (train): 100%|██████████| 213/213 [00:24<00:00,  8.83it/s]\n",
            "Covariance estimation: 100%|██████████| 784/784 [00:00<00:00, 5392.87it/s]\n",
            "Feature extraction (train): 100%|██████████| 213/213 [00:30<00:00,  7.08it/s]\n",
            "Covariance estimation: 100%|██████████| 784/784 [00:00<00:00, 5611.86it/s]\n",
            "Feature extraction (test): 100%|██████████| 50/50 [00:06<00:00,  7.67it/s]\n"
          ]
        },
        {
          "output_type": "stream",
          "name": "stdout",
          "text": [
            "[TEST] Image AUROC: 0.893\n",
            "[TEST] Pixel AUROC: 0.956\n"
          ]
        },
        {
          "output_type": "stream",
          "name": "stderr",
          "text": [
            "Feature extraction (test): 100%|██████████| 50/50 [00:05<00:00,  9.38it/s]\n"
          ]
        },
        {
          "output_type": "stream",
          "name": "stdout",
          "text": [
            "[TEST] Image AUROC: 0.907\n",
            "[TEST] Pixel AUROC: 0.949\n"
          ]
        },
        {
          "output_type": "stream",
          "name": "stderr",
          "text": [
            "Feature extraction (test): 100%|██████████| 50/50 [00:09<00:00,  5.02it/s]\n"
          ]
        },
        {
          "output_type": "stream",
          "name": "stdout",
          "text": [
            "[TEST] Image AUROC: 0.960\n",
            "[TEST] Pixel AUROC: 0.962\n"
          ]
        },
        {
          "output_type": "stream",
          "name": "stderr",
          "text": [
            "Feature extraction (train): 100%|██████████| 220/220 [00:25<00:00,  8.55it/s]\n",
            "Covariance estimation: 100%|██████████| 784/784 [00:00<00:00, 2772.09it/s]\n",
            "Feature extraction (train): 100%|██████████| 220/220 [00:16<00:00, 13.72it/s]\n",
            "Covariance estimation: 100%|██████████| 784/784 [00:00<00:00, 5340.65it/s]\n",
            "Feature extraction (train): 100%|██████████| 220/220 [00:16<00:00, 13.73it/s]\n",
            "Covariance estimation: 100%|██████████| 784/784 [00:00<00:00, 5212.19it/s]\n",
            "Feature extraction (test): 100%|██████████| 57/57 [00:03<00:00, 14.41it/s]\n"
          ]
        },
        {
          "output_type": "stream",
          "name": "stdout",
          "text": [
            "[TEST] Image AUROC: 0.945\n",
            "[TEST] Pixel AUROC: 0.938\n"
          ]
        },
        {
          "output_type": "stream",
          "name": "stderr",
          "text": [
            "Feature extraction (test): 100%|██████████| 57/57 [00:03<00:00, 14.95it/s]\n"
          ]
        },
        {
          "output_type": "stream",
          "name": "stdout",
          "text": [
            "[TEST] Image AUROC: 0.879\n",
            "[TEST] Pixel AUROC: 0.923\n"
          ]
        },
        {
          "output_type": "stream",
          "name": "stderr",
          "text": [
            "Feature extraction (test): 100%|██████████| 57/57 [00:04<00:00, 13.75it/s]\n"
          ]
        },
        {
          "output_type": "stream",
          "name": "stdout",
          "text": [
            "[TEST] Image AUROC: 0.895\n",
            "[TEST] Pixel AUROC: 0.862\n"
          ]
        },
        {
          "output_type": "display_data",
          "data": {
            "text/plain": [
              "<Figure size 800x400 with 2 Axes>"
            ],
            "image/png": "[encoded data removed]"
          },
          "metadata": {}
        },
        {
          "output_type": "display_data",
          "data": {
            "text/plain": [
              "<Figure size 800x400 with 2 Axes>"
            ],
            "image/png": "[encoded data removed]"
          },
          "metadata": {}
        },
        {
          "output_type": "display_data",
          "data": {
            "text/plain": [
              "<Figure size 800x400 with 2 Axes>"
            ],
            "image/png": "[encoded data removed]"
          },
          "metadata": {}
        },
        {
          "output_type": "display_data",
          "data": {
            "text/plain": [
              "<Figure size 800x400 with 2 Axes>"
            ],
            "image/png": "[encoded data removed]"
          },
          "metadata": {}
        },
        {
          "output_type": "display_data",
          "data": {
            "text/plain": [
              "<Figure size 800x400 with 2 Axes>"
            ],
            "image/png": "[encoded data removed]"
          },
          "metadata": {}
        },
        {
          "output_type": "display_data",
          "data": {
            "text/plain": [
              "<Figure size 800x400 with 2 Axes>"
            ],
            "image/png": "[encoded data removed]"
          },
          "metadata": {}
        },
        {
          "output_type": "display_data",
          "data": {
            "text/plain": [
              "<Figure size 800x400 with 2 Axes>"
            ],
            "image/png": "[encoded data removed]"
          },
          "metadata": {}
        },
        {
          "output_type": "display_data",
          "data": {
            "text/plain": [
              "<Figure size 800x400 with 2 Axes>"
            ],
            "image/png": "[encoded data removed]"
          },
          "metadata": {}
        },
        {
          "output_type": "display_data",
          "data": {
            "text/plain": [
              "<Figure size 800x400 with 2 Axes>"
            ],
            "image/png": "[encoded data removed]"
          },
          "metadata": {}
        }
      ]
    },
    {
      "cell_type": "code",
      "source": [
        "first = []\n",
        "best = []\n",
        "worst = []\n",
        "for class_name in CLASS_NAMES:\n",
        "  first.append(evaluations[class_name][\"first\"])\n",
        "  best.append(evaluations[class_name][\"best\"])\n",
        "  worst.append(evaluations[class_name][\"worst\"])\n",
        "\n",
        "torch.save(torch.tensor(first), ('evaluation_of_first'))\n",
        "torch.save(torch.tensor(best), ('evaluation_of_best'))\n",
        "torch.save(torch.tensor(worst), ('evaluation_of_worst'))\n",
        "\n",
        "fig, ax = plt.subplots()\n",
        "fig.suptitle('Evaluations of models')\n",
        "ax.plot(CLASS_NAMES, first, label=\"first\")\n",
        "ax.plot(CLASS_NAMES, best, label=\"best\")\n",
        "ax.plot(CLASS_NAMES, worst, label=\"worst\")\n",
        "ax.legend()\n",
        "\n",
        "plt.show()\n"
      ],
      "metadata": {
        "colab": {
          "base_uri": "https://localhost:8080/",
          "height": 478
        },
        "id": "SWmbfmilCJuv",
        "outputId": "244d6182-e7c5-4eff-e7a1-75225b7dbefc"
      },
      "execution_count": 24,
      "outputs": [
        {
          "output_type": "display_data",
          "data": {
            "text/plain": [
              "<Figure size 640x480 with 1 Axes>"
            ],
            "image/png": "[encoded data removed]"
          },
          "metadata": {}
        }
      ]
    },
    {
      "cell_type": "markdown",
      "source": [
        "## Conclusions:"
      ],
      "metadata": {
        "id": "1LJYcV_FgnZN"
      }
    },
    {
      "cell_type": "markdown",
      "source": [
        "#### In each class all of the features have more or less the same importance(they are of the same order of magnitude), but according to my calculations those importances vary wildly across different classes (by about 3 orders of magnitude). It is not improbable as classes are different. Some classes may be more 'mixing invariant' - ie different patches are similar (or to be more precise the embeddings are similar), that may happen if the image doesn't have any distinctive features or if those feature across different images of that class are not placed in the same places - for example there might be some shifts and nontrivial rotations of the objects so that distributions don't change significantly between patches. And other classes might be opposite - that is for a certain patch its embeddings come from a narrow distribution - that may happen if the object stays relatively in place and is very similar across different images.\n",
        "#### So there are 2 options: either that is really the case or there is some bug in my code (I am somewhat suspicious of such large differences in 'average' feature importance between classes).\n",
        "#### Either way the choice of specific features doesn't have much impact on the performance of the model - they behave more or less the same for every class regardless of chosing set of worst or best or random (first). Or rather the models do a bit differently based on the set of features it learned, but there is no consistent advantage of any of them across all classes - the 'worst' model does the best on transistor and (ex aequo) on bottle, the first does the best on metal nut and (ex aequo) on bottle, and the ' best' isn't far behind.\n",
        "#### On the other hand the number of features used in training does have some impact - the more the better. That isn't shocking - the backbone model was optimized for very different task (regarding different classes and possibly not localization/detection) so there is no reason for different features-chanels to be 'specialized' for specific class in mvtec dataset. Rather each channel does something that is generally (across classes) a bit useful and, combined together, this information allows to localize anomalies (possibly also for those different classes for which the backbone was actually trained there wasn't a clear specialization of features-chanels useful only for specific class, as usually there are more classes than chanels and lack of such specialization facilitates the model to score high for all classes)."
      ],
      "metadata": {
        "id": "p_d_abIFFCKM"
      }
    },
    {
      "cell_type": "markdown",
      "source": [
        "## Assessment:"
      ],
      "metadata": {
        "id": "cascMHOivqpw"
      }
    },
    {
      "cell_type": "code",
      "execution_count": 32,
      "metadata": {
        "id": "pQ15CrwFmLQ5",
        "colab": {
          "base_uri": "https://localhost:8080/"
        },
        "outputId": "2b5364f5-dcd6-4a85-a460-3acddb51e535"
      },
      "outputs": [
        {
          "output_type": "stream",
          "name": "stdout",
          "text": [
            "[88, 2, 53, 28, 82, 25, 19, 39, 63, 56]\n",
            "[96, 61, 89, 60, 43, 80, 51, 74, 87, 69]\n",
            "[51, 95, 60, 97, 2, 8, 9, 37, 1, 46]\n",
            "[80, 18, 4, 83, 74, 27, 89, 65, 21, 26]\n",
            "[14, 87, 26, 57, 8, 3, 4, 83, 20, 89]\n",
            "[69, 79, 76, 99, 91, 97, 73, 90, 68, 35]\n",
            "[0, 2, 4, 6, 8, 10, 12, 14, 16, 18, 20, 22, 24, 26, 28, 30, 32, 34, 36, 38, 40, 42, 44, 46, 48, 50, 52, 54, 56, 58, 60, 62, 64, 66, 68, 70, 72, 74, 76, 78, 80, 82]\n",
            "[1, 3, 5, 7, 9, 11, 13, 15, 17, 19, 21, 23, 25, 27, 29, 31, 33, 35, 37, 39, 41, 43, 45, 47, 49, 51, 53, 55, 57, 59, 61, 63, 65, 67, 69, 71, 73, 75, 77, 79, 81]\n",
            "[1, 2, 4, 5, 7, 8, 10, 11, 13, 14, 16, 17, 19, 20, 22, 23, 25, 26, 28, 29, 31, 32, 34, 35, 37, 38, 40, 41, 43, 44, 46, 47, 49, 50, 52, 53, 55, 56, 58, 59, 61, 62, 64, 65, 67, 68, 70, 71, 73, 74, 76, 77, 79, 80, 82, 83, 85, 86, 88, 89, 91, 92, 94, 95, 97, 98, 100, 101, 103, 104, 106, 107, 109, 110, 112, 113, 115, 116, 118, 119, 121, 122, 124, 125, 127, 128, 130, 131, 133, 134, 136, 137, 139, 140, 142, 143, 145, 146, 148, 149, 151, 152, 154, 155, 157, 158, 160, 161, 163, 164, 166, 167, 169, 170, 172, 173, 175, 176, 178, 179, 181, 182, 184, 185, 187, 188, 190, 191, 193, 194, 196, 197, 199, 200, 202, 203, 205, 206, 208]\n",
            "[0, 2, 3, 5, 6, 8, 9, 11, 12, 14, 15, 17, 18, 20, 21, 23, 24, 26, 27, 29, 30, 32, 33, 35, 36, 38, 39, 41, 42, 44, 45, 47, 48, 50, 51, 53, 54, 56, 57, 59, 60, 62, 63, 65, 66, 68, 69, 71, 72, 74, 75, 77, 78, 80, 81, 83, 84, 86, 87, 89, 90, 92, 93, 95, 96, 98, 99, 101, 102, 104, 105, 107, 108, 110, 111, 113, 114, 116, 117, 119, 120, 122, 123, 125, 126, 128, 129, 131, 132, 134, 135, 137, 138, 140, 141, 143, 144, 146, 147, 149, 150, 152, 153, 155, 156, 158, 159, 161, 162, 164, 165, 167, 168, 170, 171, 173, 174, 176, 177, 179, 180, 182, 183, 185, 186, 188, 189, 191, 192, 194, 195, 197, 198, 200, 201, 203, 204, 206, 207]\n",
            "[0, 1, 3, 4, 6, 7, 9, 10, 12, 13, 15, 16, 18, 19, 21, 22, 24, 25, 27, 28, 30, 31, 33, 34, 36, 37, 39, 40, 42, 43, 45, 46, 48, 49, 51, 52, 54, 55, 57, 58, 60, 61, 63, 64, 66, 67, 69, 70, 72, 73, 75, 76, 78, 79, 81, 82, 84, 85, 87, 88, 90, 91, 93, 94, 96, 97, 99, 100, 102, 103, 105, 106, 108, 109, 111, 112, 114, 115, 117, 118, 120, 121, 123, 124, 126, 127, 129, 130, 132, 133, 135, 136, 138, 139, 141, 142, 144, 145, 147, 148, 150, 151, 153, 154, 156, 157, 159, 160, 162, 163, 165, 166, 168, 169, 171, 172, 174, 175, 177, 178, 180, 181, 183, 184, 186, 187, 189, 190, 192, 193, 195, 196, 198, 199, 201, 202, 204, 205, 207, 208]\n",
            "[0, 2, 4, 6, 8, 10, 12, 14, 16, 18, 20, 22, 24, 26, 28, 30, 32, 34, 36, 38, 40, 42, 44, 46, 48, 50, 52, 54, 56, 58, 60, 62, 64, 66, 68, 70, 72, 74, 76, 78, 80, 82, 84, 86, 88, 90, 92, 94, 96, 98]\n",
            "[1, 3, 5, 7, 9, 11, 13, 15, 17, 19, 21, 23, 25, 27, 29, 31, 33, 35, 37, 39, 41, 43, 45, 47, 49, 51, 53, 55, 57, 59, 61, 63, 65, 67, 69, 71, 73, 75, 77, 79, 81, 83, 85, 87, 89, 91, 93, 95, 97, 99]\n",
            "[1, 2, 4, 5, 7, 8, 10, 11, 13, 14, 16, 17, 19, 20, 22, 23, 25, 26, 28, 29, 31, 32, 34, 35, 37, 38, 40, 41, 43, 44, 46, 47, 49, 50, 52, 53, 55, 56, 58, 59, 61, 62, 64, 65, 67, 68, 70, 71, 73, 74, 76, 77, 79, 80, 82, 83, 85, 86, 88, 89, 91, 92, 94, 95, 97, 98, 100, 101, 103, 104, 106, 107, 109, 110, 112, 113, 115, 116, 118, 119, 121, 122, 124, 125, 127, 128, 130, 131, 133, 134, 136, 137, 139, 140, 142, 143, 145, 146, 148, 149, 151, 152, 154, 155, 157, 158, 160, 161, 163, 164, 166, 167, 169, 170, 172, 173, 175, 176, 178, 179, 181, 182, 184, 185, 187, 188, 190, 191, 193, 194, 196, 197, 199, 200, 202, 203, 205, 206, 208, 209, 211, 212]\n",
            "[0, 2, 3, 5, 6, 8, 9, 11, 12, 14, 15, 17, 18, 20, 21, 23, 24, 26, 27, 29, 30, 32, 33, 35, 36, 38, 39, 41, 42, 44, 45, 47, 48, 50, 51, 53, 54, 56, 57, 59, 60, 62, 63, 65, 66, 68, 69, 71, 72, 74, 75, 77, 78, 80, 81, 83, 84, 86, 87, 89, 90, 92, 93, 95, 96, 98, 99, 101, 102, 104, 105, 107, 108, 110, 111, 113, 114, 116, 117, 119, 120, 122, 123, 125, 126, 128, 129, 131, 132, 134, 135, 137, 138, 140, 141, 143, 144, 146, 147, 149, 150, 152, 153, 155, 156, 158, 159, 161, 162, 164, 165, 167, 168, 170, 171, 173, 174, 176, 177, 179, 180, 182, 183, 185, 186, 188, 189, 191, 192, 194, 195, 197, 198, 200, 201, 203, 204, 206, 207, 209, 210, 212]\n",
            "[0, 1, 3, 4, 6, 7, 9, 10, 12, 13, 15, 16, 18, 19, 21, 22, 24, 25, 27, 28, 30, 31, 33, 34, 36, 37, 39, 40, 42, 43, 45, 46, 48, 49, 51, 52, 54, 55, 57, 58, 60, 61, 63, 64, 66, 67, 69, 70, 72, 73, 75, 76, 78, 79, 81, 82, 84, 85, 87, 88, 90, 91, 93, 94, 96, 97, 99, 100, 102, 103, 105, 106, 108, 109, 111, 112, 114, 115, 117, 118, 120, 121, 123, 124, 126, 127, 129, 130, 132, 133, 135, 136, 138, 139, 141, 142, 144, 145, 147, 148, 150, 151, 153, 154, 156, 157, 159, 160, 162, 163, 165, 166, 168, 169, 171, 172, 174, 175, 177, 178, 180, 181, 183, 184, 186, 187, 189, 190, 192, 193, 195, 196, 198, 199, 201, 202, 204, 205, 207, 208, 210, 211]\n",
            "[0, 2, 4, 6, 8, 10, 12, 14, 16, 18, 20, 22, 24, 26, 28, 30, 32, 34, 36, 38, 40, 42, 44, 46, 48, 50, 52, 54, 56, 58, 60, 62, 64, 66, 68, 70, 72, 74, 76, 78, 80, 82, 84, 86, 88, 90, 92, 94, 96, 98, 100, 102, 104, 106, 108, 110, 112, 114]\n",
            "[1, 3, 5, 7, 9, 11, 13, 15, 17, 19, 21, 23, 25, 27, 29, 31, 33, 35, 37, 39, 41, 43, 45, 47, 49, 51, 53, 55, 57, 59, 61, 63, 65, 67, 69, 71, 73, 75, 77, 79, 81, 83, 85, 87, 89, 91, 93, 95, 97, 99, 101, 103, 105, 107, 109, 111, 113]\n",
            "[1, 2, 4, 5, 7, 8, 10, 11, 13, 14, 16, 17, 19, 20, 22, 23, 25, 26, 28, 29, 31, 32, 34, 35, 37, 38, 40, 41, 43, 44, 46, 47, 49, 50, 52, 53, 55, 56, 58, 59, 61, 62, 64, 65, 67, 68, 70, 71, 73, 74, 76, 77, 79, 80, 82, 83, 85, 86, 88, 89, 91, 92, 94, 95, 97, 98, 100, 101, 103, 104, 106, 107, 109, 110, 112, 113, 115, 116, 118, 119, 121, 122, 124, 125, 127, 128, 130, 131, 133, 134, 136, 137, 139, 140, 142, 143, 145, 146, 148, 149, 151, 152, 154, 155, 157, 158, 160, 161, 163, 164, 166, 167, 169, 170, 172, 173, 175, 176, 178, 179, 181, 182, 184, 185, 187, 188, 190, 191, 193, 194, 196, 197, 199, 200, 202, 203, 205, 206, 208, 209, 211, 212, 214, 215, 217, 218]\n",
            "[0, 2, 3, 5, 6, 8, 9, 11, 12, 14, 15, 17, 18, 20, 21, 23, 24, 26, 27, 29, 30, 32, 33, 35, 36, 38, 39, 41, 42, 44, 45, 47, 48, 50, 51, 53, 54, 56, 57, 59, 60, 62, 63, 65, 66, 68, 69, 71, 72, 74, 75, 77, 78, 80, 81, 83, 84, 86, 87, 89, 90, 92, 93, 95, 96, 98, 99, 101, 102, 104, 105, 107, 108, 110, 111, 113, 114, 116, 117, 119, 120, 122, 123, 125, 126, 128, 129, 131, 132, 134, 135, 137, 138, 140, 141, 143, 144, 146, 147, 149, 150, 152, 153, 155, 156, 158, 159, 161, 162, 164, 165, 167, 168, 170, 171, 173, 174, 176, 177, 179, 180, 182, 183, 185, 186, 188, 189, 191, 192, 194, 195, 197, 198, 200, 201, 203, 204, 206, 207, 209, 210, 212, 213, 215, 216, 218, 219]\n",
            "[0, 1, 3, 4, 6, 7, 9, 10, 12, 13, 15, 16, 18, 19, 21, 22, 24, 25, 27, 28, 30, 31, 33, 34, 36, 37, 39, 40, 42, 43, 45, 46, 48, 49, 51, 52, 54, 55, 57, 58, 60, 61, 63, 64, 66, 67, 69, 70, 72, 73, 75, 76, 78, 79, 81, 82, 84, 85, 87, 88, 90, 91, 93, 94, 96, 97, 99, 100, 102, 103, 105, 106, 108, 109, 111, 112, 114, 115, 117, 118, 120, 121, 123, 124, 126, 127, 129, 130, 132, 133, 135, 136, 138, 139, 141, 142, 144, 145, 147, 148, 150, 151, 153, 154, 156, 157, 159, 160, 162, 163, 165, 166, 168, 169, 171, 172, 174, 175, 177, 178, 180, 181, 183, 184, 186, 187, 189, 190, 192, 193, 195, 196, 198, 199, 201, 202, 204, 205, 207, 208, 210, 211, 213, 214, 216, 217, 219]\n"
          ]
        }
      ],
      "source": [
        "# Run at the end, but do not modify - we will use this to asses your output.\n",
        "for c in CLASS_NAMES:\n",
        "    s = pd.Series(results[c])\n",
        "    print(s.sort_values(ascending=False)[:10].index.tolist())\n",
        "    print(s.sort_values(ascending=True)[:10].index.tolist())\n",
        "\n",
        "def get_sorted_indices(loader):\n",
        "    loader.dataset.return_only_indices = True\n",
        "    indices = sorted([x.item() for x in loader])\n",
        "    loader.dataset.return_only_indices = False\n",
        "    return indices\n",
        "\n",
        "for c in CLASS_NAMES:\n",
        "    print(get_sorted_indices(dataloaders[c][\"val_dataloader\"]))\n",
        "    print(get_sorted_indices(dataloaders[c][\"test_dataloader\"]))\n",
        "    for v in dataloaders[c][\"train_dataloaders\"]:\n",
        "        print(get_sorted_indices(v))"
      ]
    },
    {
      "cell_type": "markdown",
      "source": [
        "# Task 2. Improving PADIM with Online Covariance Estimation"
      ],
      "metadata": {
        "id": "2JVQg8R68gZm"
      }
    },
    {
      "cell_type": "markdown",
      "source": [
        "#### 2.1. PADIM's training complexity (15%)"
      ],
      "metadata": {
        "id": "ob_W3QmrtBaA"
      }
    },
    {
      "cell_type": "markdown",
      "metadata": {
        "id": "BFtxU709mLQ5"
      },
      "source": [
        "This implementation of PADIM can be improved in numerous ways. In this exercise, you'll try to indicate its shortcomings and provide some means to mitigate them.\n",
        "\n",
        "- Identify the key operations contributing to the algorithm's training space complexity *in this implementation*. Don't focus on the backbone, as it is not the part of the algorithm (however, its output is).\n",
        "- Shortly discuss the implications for scalability. You can support your claims by charts if needed.\n",
        "\n",
        "*Hint: this doesn't need to be super formal analysis - it's about fiding the \"worst\" parts of this implementation. You can support your claims with a chart and brief description (e.g. \"X dominates the complexity, as it's quadratic.\")*"
      ]
    },
    {
      "cell_type": "markdown",
      "metadata": {
        "id": "cy9Q22gkmLQ5"
      },
      "source": [
        "```Your answer to task 2.1 goes here```"
      ]
    },
    {
      "cell_type": "code",
      "execution_count": 140,
      "metadata": {
        "id": "HMFg702omLQ7"
      },
      "outputs": [],
      "source": [
        "# Your code goes here (if needed)"
      ]
    },
    {
      "cell_type": "markdown",
      "source": [
        "##### My answer\n",
        "There are several inefficiencies in the training process:\n",
        "1. As for memory complexity, a major inefficiency is storing activations of the relevant layers for ALL the images in order to compute the covariance matrix's and mean vector's estimations instead of doing it on the fly - that is updating those estimations with activations of each batch and 'forgeting' them right after that, as they are no longer used.\n",
        "The original implementation in this notebook needed Θ(H * W * C * N + H * W * C' * C') memory, where H, W are image dimensions, C is the number of channels in the layers used (448 for resnet), C' is thecnumber of features used, and N is the number of images, while the implementation that would do the online estimations would use Θ(H * W * C * B + H * W * C' * C'), where B is the batch size, so it is independent of the size of the training dataset, contrary to the first former, which increases linearly with that size.\n",
        "2. As for time and (somewhat) space complexity: for each image its embedding is found by doing the inference with the full model, that is propagating the activations all the way through all layers instead of finishing at the last useful layer (for ResNet it would be third layer, while ResNet is several times 'longer' - the greater is the proportion between the overall model length and the length from the first to the last used layer the greater the effect is) - that increases time complexity, while not having too much of an impact on space complexity as mode is in eval mode and doesn't use grad, so the activations dissapear (unless they are memorized as is the case with the first 3 layers)"
      ],
      "metadata": {
        "id": "okFAQZ5lYvsm"
      }
    },
    {
      "cell_type": "markdown",
      "source": [
        "#### 2.2 Online mean and covariance (35%)\n"
      ],
      "metadata": {
        "id": "O557HfbftGAf"
      }
    },
    {
      "cell_type": "markdown",
      "metadata": {
        "id": "2lr6qs2AmLQ7"
      },
      "source": [
        "Implement a PyTorch version of [online covariance matrix estimation](https://en.wikipedia.org/wiki/Algorithms_for_calculating_variance#Online) in the training as an alternative to the current method in PADIM.\n",
        "Calculate the mean in an online fashion as well.\n",
        "Your implementation shall run on the selected `torch.device` (such as GPU).\n",
        "No need to reimplement the testing routine to online in this exercise (although it'd be nice to have for Task 1), albeit small changes might be necessary (such as conversion from `torch.Tensor` to `np.ndarray`).\n",
        "\n",
        "Passing criteria:\n",
        "```python\n",
        "torch.allclose(padim_online.mean, torch.Tensor(padim_offline.mean).to(DEVICE), atol=0.01)\n",
        "torch.allclose(padim_online.cov, torch.Tensor(padim_offline.cov).to(DEVICE), atol=0.01)\n",
        "```\n"
      ]
    },
    {
      "cell_type": "code",
      "source": [
        "class PADIMWithOnlineCovariance(PADIM):\n",
        "\n",
        "    ### TODO: Your code goes here\n",
        "    def __init__(\n",
        "            self,\n",
        "            backbone: str,\n",
        "            device: torch.device,\n",
        "            save_path: Path,\n",
        "            backbone_features_idx: List[int],\n",
        "            class_names=...,\n",
        "            plot_metrics=False,\n",
        "            ) -> None:\n",
        "        super().__init__(backbone, device, save_path, backbone_features_idx, class_names, plot_metrics)\n",
        "\n",
        "    def train(self, train_dataloader: DataLoader, C: int, H: int, W: int):\n",
        "        \"\"\"C, H, W come from the size of embeddings: [B, C, H, W]\"\"\"\n",
        "\n",
        "        mean = torch.zeros((C, H * W)).to(self.device)\n",
        "        cov = torch.zeros((C, C, H * W)).to(self.device)\n",
        "        n = 0\n",
        "\n",
        "        for x, _, _ in tqdm(train_dataloader, desc='Feature extraction (train)'):\n",
        "            self.train_outputs: Dict[str, List[torch.Tensor]] = {'layer1': [], 'layer2': [], 'layer3': []}\n",
        "            # Run model prediction.\n",
        "            with torch.no_grad():\n",
        "                _ = self.model(x.to(self.device))\n",
        "            # Get intermediate layer outputs.\n",
        "            assert list(self.outputs.keys())  == ['layer1', 'layer2', 'layer3'], list(self.outputs.keys())\n",
        "            for k, v in self.outputs.items():\n",
        "                self.train_outputs[k].append(v.detach().to(self.device))\n",
        "            # Reset hook outputs.\n",
        "            self.outputs = {}\n",
        "\n",
        "            embedding_vectors = concatenate_embeddings_from_all_layers({k: torch.cat(v, 0) for k, v in self.train_outputs.items()})\n",
        "            del(self.train_outputs)\n",
        "\n",
        "            embedding_vectors_subset = torch.index_select(embedding_vectors, 1, self.feature_subset_indices.to(self.device))\n",
        "            for i in range(len(embedding_vectors_subset)):\n",
        "                n += 1\n",
        "                embedding_vect = embedding_vectors_subset[i].view(C, H * W)\n",
        "\n",
        "                mean += ((embedding_vect - mean) / n)\n",
        "\n",
        "                difference = embedding_vect - mean\n",
        "\n",
        "                for i in range(H*W):\n",
        "                    diff_v = (difference[:, i]).reshape(1, -1)\n",
        "                    if n > 1:\n",
        "                        cov[:, :, i] =((n-1) / n) * (cov[:, :, i]) +  (torch.matmul(diff_v.T, diff_v)) / (n-1)\n",
        "\n",
        "        I = torch.eye(C).to(self.device)\n",
        "        for i in range(H * W):\n",
        "            cov[:, :, i] += 0.01 * I\n",
        "\n",
        "        self.mean = mean.to(self.device)\n",
        "        self.cov = cov.to(self.device)\n",
        "    ### END OF YOUR CODE\n"
      ],
      "metadata": {
        "id": "VnM75mXuG9LY"
      },
      "execution_count": 25,
      "outputs": []
    },
    {
      "cell_type": "code",
      "source": [
        "# v = torch.tensor([[1, 2, 3],[3, 4, 5],[0,9,8]])\n",
        "# len(v)"
      ],
      "metadata": {
        "id": "LY5nhC5qbPs6"
      },
      "execution_count": 34,
      "outputs": []
    },
    {
      "cell_type": "code",
      "execution_count": 35,
      "metadata": {
        "id": "o9wQzd-NmLQ8",
        "colab": {
          "base_uri": "https://localhost:8080/"
        },
        "outputId": "816169a2-bf6f-4560-90f1-99db4e02334a"
      },
      "outputs": [
        {
          "output_type": "stream",
          "name": "stderr",
          "text": [
            "Feature extraction (train): 100%|██████████| 209/209 [00:32<00:00,  6.39it/s]\n",
            "Covariance estimation: 100%|██████████| 3136/3136 [00:01<00:00, 2723.47it/s]\n",
            "Feature extraction (train): 100%|██████████| 209/209 [02:09<00:00,  1.62it/s]\n"
          ]
        },
        {
          "output_type": "execute_result",
          "data": {
            "text/plain": [
              "True"
            ]
          },
          "metadata": {},
          "execution_count": 35
        }
      ],
      "source": [
        "# do not modify\n",
        "seed_all(SEED)\n",
        "class_name = 'bottle'\n",
        "BATCH_SIZE = 1\n",
        "RESIZE = 256 * 1\n",
        "CROP_SIZE = 224 * 1\n",
        "BACKBONE = \"resnet18\"\n",
        "NUMBER_OF_BACKBONE_FEATURES = 30\n",
        "MAX_NUMBER_OF_BACKBONE_FEATURES = 448\n",
        "# DEVICE=\"cpu\"\n",
        "\n",
        "indices = sample_idx(NUMBER_OF_BACKBONE_FEATURES, MAX_NUMBER_OF_BACKBONE_FEATURES).to(DEVICE)\n",
        "\n",
        "run_timestamp = time.time()\n",
        "SAVE_PATH = Path(f\"./results/{run_timestamp}/{class_name}\")\n",
        "\n",
        "train_dataset = MVTecDataset(DATA_PATH, class_name=class_name, is_train=True, resize=RESIZE, cropsize=CROP_SIZE)\n",
        "train_dataloader = DataLoader(train_dataset, batch_size=BATCH_SIZE, pin_memory=True)\n",
        "test_dataset = MVTecDataset(DATA_PATH, class_name=class_name, is_train=False, resize=RESIZE, cropsize=CROP_SIZE)\n",
        "val_dataloader = DataLoader(test_dataset, batch_size=BATCH_SIZE, pin_memory=True)\n",
        "\n",
        "\n",
        "padim_offline = PADIM(\n",
        "    backbone=BACKBONE,\n",
        "    device=DEVICE,\n",
        "    backbone_features_idx=indices,\n",
        "    save_path=SAVE_PATH,\n",
        "    plot_metrics=True,\n",
        ")\n",
        "padim_offline.train(train_dataloader)\n",
        "\n",
        "padim_online = PADIMWithOnlineCovariance(\n",
        "    backbone=BACKBONE,\n",
        "    device=DEVICE,\n",
        "    backbone_features_idx=indices,\n",
        "    save_path=SAVE_PATH,\n",
        "    plot_metrics=True,\n",
        ")\n",
        "padim_online.train(train_dataloader, NUMBER_OF_BACKBONE_FEATURES, int(CROP_SIZE/4), int(CROP_SIZE/4))\n",
        "\n",
        "torch.allclose(padim_online.mean, torch.Tensor(padim_offline.mean).to(DEVICE), atol=0.01) and torch.allclose(padim_online.cov, torch.Tensor(padim_offline.cov).to(DEVICE), atol=0.01)\n"
      ]
    },
    {
      "cell_type": "markdown",
      "metadata": {
        "id": "YyZjae97mLQ9"
      },
      "source": [
        "#### 2.3 Performance experiments (10%)\n",
        "If you completed task 2.2, design experiments to empirically compare `space/memory` performance of PADIM training with both traditional and online covariance matrix estimation. Write short conclusions."
      ]
    },
    {
      "cell_type": "code",
      "execution_count": 36,
      "metadata": {
        "id": "A8eix1v3mLQ9"
      },
      "outputs": [],
      "source": [
        "# Your code goes here\n",
        "import gc\n",
        "padim_offline = None\n",
        "padim_online = None"
      ]
    },
    {
      "cell_type": "code",
      "source": [
        "padim_offline = PADIM(backbone=BACKBONE, device=DEVICE, backbone_features_idx=indices, save_path=SAVE_PATH, plot_metrics=False)\n",
        "gc.collect()\n",
        "%reload_ext memory_profiler\n",
        "\n",
        "\n",
        "%memit padim_offline.train(train_dataloader)\n",
        "\n",
        "padim_offline = None"
      ],
      "metadata": {
        "colab": {
          "base_uri": "https://localhost:8080/"
        },
        "id": "CGEwqQ8Oor-b",
        "outputId": "7289462d-5918-4cab-f046-639196e0f636"
      },
      "execution_count": 37,
      "outputs": [
        {
          "output_type": "stream",
          "name": "stderr",
          "text": [
            "Feature extraction (train): 100%|██████████| 209/209 [00:49<00:00,  4.20it/s]\n",
            "Covariance estimation: 100%|██████████| 3136/3136 [00:01<00:00, 2280.95it/s]\n"
          ]
        },
        {
          "output_type": "stream",
          "name": "stdout",
          "text": [
            "peak memory: 6761.39 MiB, increment: 3350.78 MiB\n"
          ]
        }
      ]
    },
    {
      "cell_type": "code",
      "source": [
        "padim_online = PADIMWithOnlineCovariance(backbone=BACKBONE, device=DEVICE, backbone_features_idx=indices, save_path=SAVE_PATH, plot_metrics=False)\n",
        "gc.collect()\n",
        "%reload_ext memory_profiler\n",
        "\n",
        "\n",
        "%memit padim_online.train(train_dataloader, NUMBER_OF_BACKBONE_FEATURES, int(CROP_SIZE/4), int(CROP_SIZE/4))\n",
        "\n",
        "padim_online = None"
      ],
      "metadata": {
        "colab": {
          "base_uri": "https://localhost:8080/"
        },
        "id": "b7RJDe_ooodJ",
        "outputId": "4b46dec4-5982-45ef-fa8f-9d32732f87a0"
      },
      "execution_count": 38,
      "outputs": [
        {
          "output_type": "stream",
          "name": "stderr",
          "text": [
            "Feature extraction (train): 100%|██████████| 209/209 [02:25<00:00,  1.44it/s]\n"
          ]
        },
        {
          "output_type": "stream",
          "name": "stdout",
          "text": [
            "peak memory: 3411.79 MiB, increment: 0.25 MiB\n"
          ]
        }
      ]
    },
    {
      "cell_type": "code",
      "source": [
        "train_dataset = MVTecDataset(DATA_PATH, class_name=class_name, is_train=True, resize=RESIZE, cropsize=CROP_SIZE)\n",
        "for i in range(2):\n",
        "  sampler = torch.utils.data.RandomSampler(train_dataset, num_samples=((i+1) * len(train_dataset)))\n",
        "  train_dataloader = DataLoader(train_dataset, batch_size=BATCH_SIZE, sampler=sampler, pin_memory=True)\n",
        "\n",
        "  padim_online = PADIMWithOnlineCovariance(backbone=BACKBONE, device=DEVICE, backbone_features_idx=indices, save_path=SAVE_PATH, plot_metrics=False)\n",
        "  print(\"online\" + str(i))\n",
        "  gc.collect()\n",
        "  %reload_ext memory_profiler\n",
        "  %memit padim_online.train(train_dataloader, NUMBER_OF_BACKBONE_FEATURES, int(CROP_SIZE/4), int(CROP_SIZE/4))\n",
        "  padim_online = None\n",
        "\n",
        "  padim_offline = PADIM(backbone=BACKBONE, device=DEVICE, backbone_features_idx=indices, save_path=SAVE_PATH, plot_metrics=False)\n",
        "  print(\"offline\" + str(i))\n",
        "  gc.collect()\n",
        "  %reload_ext memory_profiler\n",
        "\n",
        "\n",
        "  %memit padim_offline.train(train_dataloader)\n",
        "\n",
        "  padim_offline = None"
      ],
      "metadata": {
        "colab": {
          "base_uri": "https://localhost:8080/"
        },
        "id": "ZWZasMzUzFlJ",
        "outputId": "7ccb8d6c-edd9-4000-807f-1e19b0bc0846"
      },
      "execution_count": null,
      "outputs": [
        {
          "output_type": "stream",
          "name": "stdout",
          "text": [
            "online0\n"
          ]
        },
        {
          "output_type": "stream",
          "name": "stderr",
          "text": [
            "Feature extraction (train): 100%|██████████| 209/209 [02:14<00:00,  1.55it/s]\n"
          ]
        },
        {
          "output_type": "stream",
          "name": "stdout",
          "text": [
            "peak memory: 3411.84 MiB, increment: 0.00 MiB\n",
            "offline0\n"
          ]
        },
        {
          "output_type": "stream",
          "name": "stderr",
          "text": [
            "Feature extraction (train): 100%|██████████| 209/209 [00:49<00:00,  4.21it/s]\n",
            "Covariance estimation: 100%|██████████| 3136/3136 [00:01<00:00, 2500.72it/s]\n"
          ]
        },
        {
          "output_type": "stream",
          "name": "stdout",
          "text": [
            "peak memory: 6747.78 MiB, increment: 3335.93 MiB\n",
            "online1\n"
          ]
        },
        {
          "output_type": "stream",
          "name": "stderr",
          "text": [
            "Feature extraction (train): 100%|██████████| 418/418 [04:05<00:00,  1.70it/s]\n"
          ]
        },
        {
          "output_type": "stream",
          "name": "stdout",
          "text": [
            "peak memory: 3411.91 MiB, increment: 0.06 MiB\n",
            "offline1\n"
          ]
        },
        {
          "output_type": "stream",
          "name": "stderr",
          "text": [
            "Feature extraction (train): 100%|██████████| 418/418 [01:12<00:00,  5.80it/s]\n",
            "Covariance estimation: 100%|██████████| 3136/3136 [00:01<00:00, 1710.59it/s]\n"
          ]
        },
        {
          "output_type": "stream",
          "name": "stdout",
          "text": [
            "peak memory: 10116.82 MiB, increment: 6704.91 MiB\n",
            "online2\n"
          ]
        },
        {
          "output_type": "stream",
          "name": "stderr",
          "text": [
            "Feature extraction (train): 100%|██████████| 627/627 [06:57<00:00,  1.50it/s]\n"
          ]
        },
        {
          "output_type": "stream",
          "name": "stdout",
          "text": [
            "peak memory: 3261.98 MiB, increment: 9.11 MiB\n",
            "offline2\n"
          ]
        },
        {
          "output_type": "stream",
          "name": "stderr",
          "text": [
            "Feature extraction (train): 100%|██████████| 627/627 [02:28<00:00,  4.22it/s]\n"
          ]
        }
      ]
    },
    {
      "cell_type": "markdown",
      "metadata": {
        "id": "SazzCZMWmLQ-"
      },
      "source": [
        "```Your conclusions go here```"
      ]
    },
    {
      "cell_type": "markdown",
      "source": [
        "#### My conclusions:"
      ],
      "metadata": {
        "id": "ed9jRswHg9uu"
      }
    },
    {
      "cell_type": "markdown",
      "source": [
        "\n",
        "##### Already with the dataset containing 209 images the difference between online and ofline versions is noticeable and gets bigger with the increase of the dataset size as there is a linear overhead for the offline version due to storing all the embeddings until computing the estimations for means and covariance matrices at once at the end (in online version only one batch of these is stored at any time) apart from some constant amount required that is the same for both implementations (mainly for storing covariance matrices)\n",
        "##### Experiments cofirm those conjectures, as the memory complexity of the online model stays more or less the same regardless of increasing the number of images (artificially), while that of the offline model scales linearly, to the point that colab runtime has crushed in the 3rd loop due to lack of RAM"
      ],
      "metadata": {
        "id": "OvM3Nr_yt4b5"
      }
    },
    {
      "cell_type": "markdown",
      "source": [
        "#### 2.4 Bonus task (optional)\n",
        "You can also add similar experiments with conclusions with regard to the `time` complexity. This task is optional, but if you'll loose points elsewhere, this can help you to make up for some of them."
      ],
      "metadata": {
        "id": "iHBRZCK5pZ7z"
      }
    },
    {
      "cell_type": "code",
      "source": [
        "train_dataset = MVTecDataset(DATA_PATH, class_name=class_name, is_train=True, resize=RESIZE, cropsize=CROP_SIZE)\n",
        "train_dataloader = DataLoader(train_dataset, batch_size=BATCH_SIZE, pin_memory=True)"
      ],
      "metadata": {
        "id": "9IKpaL8ThYSg"
      },
      "execution_count": 37,
      "outputs": []
    },
    {
      "cell_type": "code",
      "source": [
        "padim_offline = PADIM(backbone=BACKBONE, device=DEVICE, backbone_features_idx=indices, save_path=SAVE_PATH, plot_metrics=False)\n",
        "gc.collect()\n",
        "\n",
        "%timeit padim_offline.train(train_dataloader)"
      ],
      "metadata": {
        "colab": {
          "base_uri": "https://localhost:8080/"
        },
        "id": "egv8F79dp43m",
        "outputId": "23ba5f4d-7c63-4bb0-e4d6-3f9150bfbf8f"
      },
      "execution_count": 42,
      "outputs": [
        {
          "output_type": "stream",
          "name": "stderr",
          "text": [
            "Feature extraction (train): 100%|██████████| 209/209 [00:33<00:00,  6.20it/s]\n",
            "Covariance estimation: 100%|██████████| 3136/3136 [00:01<00:00, 1957.61it/s]\n",
            "Feature extraction (train): 100%|██████████| 209/209 [00:36<00:00,  5.70it/s]\n",
            "Covariance estimation: 100%|██████████| 3136/3136 [00:01<00:00, 2227.20it/s]\n",
            "Feature extraction (train): 100%|██████████| 209/209 [00:37<00:00,  5.57it/s]\n",
            "Covariance estimation: 100%|██████████| 3136/3136 [00:01<00:00, 1906.68it/s]\n",
            "Feature extraction (train): 100%|██████████| 209/209 [00:34<00:00,  6.10it/s]\n",
            "Covariance estimation: 100%|██████████| 3136/3136 [00:01<00:00, 2063.64it/s]\n",
            "Feature extraction (train): 100%|██████████| 209/209 [00:34<00:00,  6.06it/s]\n",
            "Covariance estimation: 100%|██████████| 3136/3136 [00:01<00:00, 2084.34it/s]\n",
            "Feature extraction (train): 100%|██████████| 209/209 [00:35<00:00,  5.85it/s]\n",
            "Covariance estimation: 100%|██████████| 3136/3136 [00:01<00:00, 2079.08it/s]\n",
            "Feature extraction (train): 100%|██████████| 209/209 [00:36<00:00,  5.76it/s]\n",
            "Covariance estimation: 100%|██████████| 3136/3136 [00:01<00:00, 2237.69it/s]\n",
            "Feature extraction (train): 100%|██████████| 209/209 [00:36<00:00,  5.69it/s]\n",
            "Covariance estimation: 100%|██████████| 3136/3136 [00:01<00:00, 1661.75it/s]\n"
          ]
        },
        {
          "output_type": "stream",
          "name": "stdout",
          "text": [
            "45.3 s ± 1.21 s per loop (mean ± std. dev. of 7 runs, 1 loop each)\n"
          ]
        }
      ]
    },
    {
      "cell_type": "code",
      "source": [
        "padim_online = PADIMWithOnlineCovariance(backbone=BACKBONE, device=DEVICE, backbone_features_idx=indices, save_path=SAVE_PATH, plot_metrics=False)\n",
        "gc.collect()\n",
        "\n",
        "%timeit padim_online.train(train_dataloader, NUMBER_OF_BACKBONE_FEATURES, int(CROP_SIZE/4), int(CROP_SIZE/4))"
      ],
      "metadata": {
        "colab": {
          "base_uri": "https://localhost:8080/"
        },
        "id": "YQkktw4qpteF",
        "outputId": "a075b728-6f6f-43a0-d519-2da796953880"
      },
      "execution_count": 43,
      "outputs": [
        {
          "output_type": "stream",
          "name": "stderr",
          "text": [
            "Feature extraction (train): 100%|██████████| 209/209 [02:06<00:00,  1.65it/s]\n",
            "Feature extraction (train): 100%|██████████| 209/209 [01:50<00:00,  1.89it/s]\n",
            "Feature extraction (train): 100%|██████████| 209/209 [01:57<00:00,  1.79it/s]\n",
            "Feature extraction (train): 100%|██████████| 209/209 [01:49<00:00,  1.91it/s]\n",
            "Feature extraction (train): 100%|██████████| 209/209 [02:00<00:00,  1.74it/s]\n",
            "Feature extraction (train): 100%|██████████| 209/209 [01:56<00:00,  1.79it/s]\n",
            "Feature extraction (train): 100%|██████████| 209/209 [01:58<00:00,  1.77it/s]\n",
            "Feature extraction (train): 100%|██████████| 209/209 [02:14<00:00,  1.55it/s]"
          ]
        },
        {
          "output_type": "stream",
          "name": "stdout",
          "text": [
            "1min 58s ± 7.64 s per loop (mean ± std. dev. of 7 runs, 1 loop each)\n"
          ]
        },
        {
          "output_type": "stream",
          "name": "stderr",
          "text": [
            "\n"
          ]
        }
      ]
    },
    {
      "cell_type": "markdown",
      "source": [
        "Time complexity is 2.5 times greater for online models than for offline models according to experiments. That is probably due to the fact that more operations are needed for each image in an online version, as previous covariance matrix needs to be rescaled. There is also lot less oportunity for parallelisation, at least for the current implementetion."
      ],
      "metadata": {
        "id": "uaV0urijogvO"
      }
    },
    {
      "cell_type": "markdown",
      "source": [
        "Time complexity of testing improvement:\n",
        "When there are many test() calls for a model that is not trained in the meantime, they can be improved by calculating inverses of covariance matrices only at the first time and reusing them later"
      ],
      "metadata": {
        "id": "6cbPTSU2yKy3"
      }
    },
    {
      "cell_type": "code",
      "source": [],
      "metadata": {
        "id": "Cdei_qUyoxBJ"
      },
      "execution_count": null,
      "outputs": []
    }
  ],
  "metadata": {
    "kernelspec": {
      "display_name": "Python 3",
      "name": "python3"
    },
    "language_info": {
      "codemirror_mode": {
        "name": "ipython",
        "version": 3
      },
      "file_extension": ".py",
      "mimetype": "text/x-python",
      "name": "python",
      "nbconvert_exporter": "python",
      "pygments_lexer": "ipython3",
      "version": "3.10.11"
    },
    "colab": {
      "provenance": [],
      "collapsed_sections": [
        "wI9U9cpLmLQi",
        "eIpKIZcpmLQm",
        "FjTsosFi1Ikn",
        "YW1hUW5umLQw",
        "_qbQzMaivKGW",
        "M-nOQw_jmLQ0",
        "OIwEDh_mmLQ1",
        "6M5fU8qjuPkL",
        "P2bblYGz8N_u",
        "aktE2KU6y4Hf",
        "ORqKt1NKv6QU",
        "Wvv96d0f6MPl",
        "PnvAECNh6IQN",
        "1LJYcV_FgnZN",
        "cascMHOivqpw",
        "ob_W3QmrtBaA",
        "BFtxU709mLQ5",
        "O557HfbftGAf",
        "YyZjae97mLQ9",
        "ed9jRswHg9uu"
      ]
    }
  },
  "nbformat": 4,
  "nbformat_minor": 0
}